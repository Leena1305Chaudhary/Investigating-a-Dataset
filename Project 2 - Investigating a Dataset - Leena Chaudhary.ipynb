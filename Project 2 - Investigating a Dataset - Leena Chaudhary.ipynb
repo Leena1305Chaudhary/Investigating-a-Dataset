{
 "cells": [
  {
   "cell_type": "markdown",
   "metadata": {},
   "source": [
    "# Project: \"Movies Trivia\"\n",
    "\n",
    "### Table of Contents:\n",
    "<ul>\n",
    "<li><a href=\"#intro\">Introduction</a></li>\n",
    "<li><a href=\"#dw\">Data Wrangling</a></li>\n",
    "<li><a href=\"#analysis\">Exploratory Analysis</a></li>\n",
    "<li><a href=\"#con\">Conclusion</a></li>\n"
   ]
  },
  {
   "cell_type": "markdown",
   "metadata": {},
   "source": [
    "<a id='intro'></a>\n",
    "## Introduction:\n",
    "\n",
    ">#### Following Analysis is based on imdb database of 10K movies released between January 1960 and September 2015. It consists of columns like user rating, budget, revenue etc.\n",
    "\n",
    ">#### Some of the questions that can be answered from the analysis are:\n",
    "1. What is the average budget, revenue and runtime of a movie?\n",
    "2. what is the most and least profitable movie?\n",
    "3. what is the highest and lowest rated movie?\n",
    "4. what is the highest and lowest revenue generating movie?\n",
    "5. what is the highest and lowest budget movie?\n",
    "6. what is the movie with highest and shortest runtime?\n",
    "7. What are the metrics of a successful movie?\n",
    "8. what is the most profitable genre of movies?\n",
    "9. what is the most profitable star cast?\n",
    "10. what is the most profitable production company?\n",
    "12. Are more produced now than earlier?\n",
    "12. Which year saw maximum numbers of movies released?\n",
    "13. Which year saw maximum numbers of profitable movies released?\n",
    "14. Are high budget movies more profitable then low budget movies?"
   ]
  },
  {
   "cell_type": "markdown",
   "metadata": {},
   "source": [
    "<a id='dw'></a>\n",
    "## Data Wrangling:\n",
    "\n",
    ">After observing the dataset and proposed questions, we'll be creating or editing relevant columns from the data. Few important steps followed in data wrangling part of this analysis are:\n",
    "1. Removed un-neccessary variables\n",
    "2. Removed duplicate rows\n",
    "3. Converted release_date from string to date\n",
    "4. Changed format of budget and revenue columns\n",
    "\n",
    "\n",
    ">#### Couple of Assumptions about the data:\n",
    "1. Budget and revenue numbers do not have a specified currency so we assumed it to be consistent, let's take that as US Dollars ($)\n",
    "2. Runtime doesn't have any unit of measurement so it is assumed to be \"minutes\"\n",
    "3. Lot of string variables are not required for the analysis hence they will be dropped from the data\n",
    "4. Release data column will be converted from object to Date\n",
    "5. Column \"popularity\" is used to assess popularity of the movie (in ascending order) \n",
    "6. Column \"vote_average\" is used as ratings for a movie\n",
    "7. Out of the 2 columns present for budget & revenue, first ones are taken respectively"
   ]
  },
  {
   "cell_type": "code",
   "execution_count": 238,
   "metadata": {},
   "outputs": [],
   "source": [
    "#importing important files \n",
    "import pandas as pd\n",
    "import numpy as np\n",
    "from datetime import datetime\n",
    "import matplotlib.pyplot as plt\n",
    "% matplotlib inline"
   ]
  },
  {
   "cell_type": "code",
   "execution_count": 329,
   "metadata": {},
   "outputs": [
    {
     "data": {
      "text/html": [
       "<div>\n",
       "<style scoped>\n",
       "    .dataframe tbody tr th:only-of-type {\n",
       "        vertical-align: middle;\n",
       "    }\n",
       "\n",
       "    .dataframe tbody tr th {\n",
       "        vertical-align: top;\n",
       "    }\n",
       "\n",
       "    .dataframe thead th {\n",
       "        text-align: right;\n",
       "    }\n",
       "</style>\n",
       "<table border=\"1\" class=\"dataframe\">\n",
       "  <thead>\n",
       "    <tr style=\"text-align: right;\">\n",
       "      <th></th>\n",
       "      <th>id</th>\n",
       "      <th>imdb_id</th>\n",
       "      <th>popularity</th>\n",
       "      <th>budget</th>\n",
       "      <th>revenue</th>\n",
       "      <th>original_title</th>\n",
       "      <th>cast</th>\n",
       "      <th>homepage</th>\n",
       "      <th>director</th>\n",
       "      <th>tagline</th>\n",
       "      <th>...</th>\n",
       "      <th>overview</th>\n",
       "      <th>runtime</th>\n",
       "      <th>genres</th>\n",
       "      <th>production_companies</th>\n",
       "      <th>release_date</th>\n",
       "      <th>vote_count</th>\n",
       "      <th>vote_average</th>\n",
       "      <th>release_year</th>\n",
       "      <th>budget_adj</th>\n",
       "      <th>revenue_adj</th>\n",
       "    </tr>\n",
       "  </thead>\n",
       "  <tbody>\n",
       "    <tr>\n",
       "      <th>0</th>\n",
       "      <td>135397</td>\n",
       "      <td>tt0369610</td>\n",
       "      <td>33.0</td>\n",
       "      <td>150000000</td>\n",
       "      <td>1513528810</td>\n",
       "      <td>Jurassic World</td>\n",
       "      <td>Chris Pratt|Bryce Dallas Howard|Irrfan Khan|Vi...</td>\n",
       "      <td>http://www.jurassicworld.com/</td>\n",
       "      <td>Colin Trevorrow</td>\n",
       "      <td>The park is open.</td>\n",
       "      <td>...</td>\n",
       "      <td>Twenty-two years after the events of Jurassic ...</td>\n",
       "      <td>124</td>\n",
       "      <td>Action|Adventure|Science Fiction|Thriller</td>\n",
       "      <td>Universal Studios|Amblin Entertainment|Legenda...</td>\n",
       "      <td>6/9/2015</td>\n",
       "      <td>5562</td>\n",
       "      <td>6.5</td>\n",
       "      <td>2015</td>\n",
       "      <td>137999939.3</td>\n",
       "      <td>1392445893.0</td>\n",
       "    </tr>\n",
       "    <tr>\n",
       "      <th>1</th>\n",
       "      <td>76341</td>\n",
       "      <td>tt1392190</td>\n",
       "      <td>28.4</td>\n",
       "      <td>150000000</td>\n",
       "      <td>378436354</td>\n",
       "      <td>Mad Max: Fury Road</td>\n",
       "      <td>Tom Hardy|Charlize Theron|Hugh Keays-Byrne|Nic...</td>\n",
       "      <td>http://www.madmaxmovie.com/</td>\n",
       "      <td>George Miller</td>\n",
       "      <td>What a Lovely Day.</td>\n",
       "      <td>...</td>\n",
       "      <td>An apocalyptic story set in the furthest reach...</td>\n",
       "      <td>120</td>\n",
       "      <td>Action|Adventure|Science Fiction|Thriller</td>\n",
       "      <td>Village Roadshow Pictures|Kennedy Miller Produ...</td>\n",
       "      <td>5/13/2015</td>\n",
       "      <td>6185</td>\n",
       "      <td>7.1</td>\n",
       "      <td>2015</td>\n",
       "      <td>137999939.3</td>\n",
       "      <td>348161292.5</td>\n",
       "    </tr>\n",
       "  </tbody>\n",
       "</table>\n",
       "<p>2 rows × 21 columns</p>\n",
       "</div>"
      ],
      "text/plain": [
       "       id    imdb_id  popularity     budget     revenue      original_title  \\\n",
       "0  135397  tt0369610        33.0  150000000  1513528810      Jurassic World   \n",
       "1   76341  tt1392190        28.4  150000000   378436354  Mad Max: Fury Road   \n",
       "\n",
       "                                                cast  \\\n",
       "0  Chris Pratt|Bryce Dallas Howard|Irrfan Khan|Vi...   \n",
       "1  Tom Hardy|Charlize Theron|Hugh Keays-Byrne|Nic...   \n",
       "\n",
       "                        homepage         director             tagline  \\\n",
       "0  http://www.jurassicworld.com/  Colin Trevorrow   The park is open.   \n",
       "1    http://www.madmaxmovie.com/    George Miller  What a Lovely Day.   \n",
       "\n",
       "      ...                                                overview runtime  \\\n",
       "0     ...       Twenty-two years after the events of Jurassic ...     124   \n",
       "1     ...       An apocalyptic story set in the furthest reach...     120   \n",
       "\n",
       "                                      genres  \\\n",
       "0  Action|Adventure|Science Fiction|Thriller   \n",
       "1  Action|Adventure|Science Fiction|Thriller   \n",
       "\n",
       "                                production_companies release_date vote_count  \\\n",
       "0  Universal Studios|Amblin Entertainment|Legenda...     6/9/2015       5562   \n",
       "1  Village Roadshow Pictures|Kennedy Miller Produ...    5/13/2015       6185   \n",
       "\n",
       "   vote_average  release_year  budget_adj  revenue_adj  \n",
       "0           6.5          2015 137999939.3 1392445893.0  \n",
       "1           7.1          2015 137999939.3  348161292.5  \n",
       "\n",
       "[2 rows x 21 columns]"
      ]
     },
     "execution_count": 329,
     "metadata": {},
     "output_type": "execute_result"
    }
   ],
   "source": [
    "#loading the csv file and storing it in the variable \"tmbd_data\"\n",
    "tmdb_data = pd.read_csv('tmdb-movies.csv')\n",
    "\n",
    "#printing first five rows with defined columns of tmdb-movies database\n",
    "tmdb_data.head(2)"
   ]
  },
  {
   "cell_type": "code",
   "execution_count": 240,
   "metadata": {},
   "outputs": [
    {
     "name": "stdout",
     "output_type": "stream",
     "text": [
      "<class 'pandas.core.frame.DataFrame'>\n",
      "RangeIndex: 10866 entries, 0 to 10865\n",
      "Data columns (total 21 columns):\n",
      "id                      10866 non-null int64\n",
      "imdb_id                 10856 non-null object\n",
      "popularity              10866 non-null float64\n",
      "budget                  10866 non-null int64\n",
      "revenue                 10866 non-null int64\n",
      "original_title          10866 non-null object\n",
      "cast                    10790 non-null object\n",
      "homepage                2936 non-null object\n",
      "director                10822 non-null object\n",
      "tagline                 8042 non-null object\n",
      "keywords                9373 non-null object\n",
      "overview                10862 non-null object\n",
      "runtime                 10866 non-null int64\n",
      "genres                  10843 non-null object\n",
      "production_companies    9836 non-null object\n",
      "release_date            10866 non-null object\n",
      "vote_count              10866 non-null int64\n",
      "vote_average            10866 non-null float64\n",
      "release_year            10866 non-null int64\n",
      "budget_adj              10866 non-null float64\n",
      "revenue_adj             10866 non-null float64\n",
      "dtypes: float64(4), int64(6), object(11)\n",
      "memory usage: 1.7+ MB\n"
     ]
    }
   ],
   "source": [
    "tmdb_data.info()"
   ]
  },
  {
   "cell_type": "code",
   "execution_count": 241,
   "metadata": {},
   "outputs": [
    {
     "data": {
      "text/html": [
       "<div>\n",
       "<style scoped>\n",
       "    .dataframe tbody tr th:only-of-type {\n",
       "        vertical-align: middle;\n",
       "    }\n",
       "\n",
       "    .dataframe tbody tr th {\n",
       "        vertical-align: top;\n",
       "    }\n",
       "\n",
       "    .dataframe thead th {\n",
       "        text-align: right;\n",
       "    }\n",
       "</style>\n",
       "<table border=\"1\" class=\"dataframe\">\n",
       "  <thead>\n",
       "    <tr style=\"text-align: right;\">\n",
       "      <th></th>\n",
       "      <th>id</th>\n",
       "      <th>popularity</th>\n",
       "      <th>budget</th>\n",
       "      <th>revenue</th>\n",
       "      <th>runtime</th>\n",
       "      <th>vote_count</th>\n",
       "      <th>vote_average</th>\n",
       "      <th>release_year</th>\n",
       "      <th>budget_adj</th>\n",
       "      <th>revenue_adj</th>\n",
       "    </tr>\n",
       "  </thead>\n",
       "  <tbody>\n",
       "    <tr>\n",
       "      <th>count</th>\n",
       "      <td>10866.0</td>\n",
       "      <td>10866.0</td>\n",
       "      <td>10866.0</td>\n",
       "      <td>10866.0</td>\n",
       "      <td>10866.0</td>\n",
       "      <td>10866.0</td>\n",
       "      <td>10866.0</td>\n",
       "      <td>10866.0</td>\n",
       "      <td>10866.0</td>\n",
       "      <td>10866.0</td>\n",
       "    </tr>\n",
       "    <tr>\n",
       "      <th>mean</th>\n",
       "      <td>66064.2</td>\n",
       "      <td>0.6</td>\n",
       "      <td>14625701.1</td>\n",
       "      <td>39823319.8</td>\n",
       "      <td>102.1</td>\n",
       "      <td>217.4</td>\n",
       "      <td>6.0</td>\n",
       "      <td>2001.3</td>\n",
       "      <td>17551039.8</td>\n",
       "      <td>51364363.3</td>\n",
       "    </tr>\n",
       "    <tr>\n",
       "      <th>std</th>\n",
       "      <td>92130.1</td>\n",
       "      <td>1.0</td>\n",
       "      <td>30913213.8</td>\n",
       "      <td>117003486.6</td>\n",
       "      <td>31.4</td>\n",
       "      <td>575.6</td>\n",
       "      <td>0.9</td>\n",
       "      <td>12.8</td>\n",
       "      <td>34306155.7</td>\n",
       "      <td>144632485.0</td>\n",
       "    </tr>\n",
       "    <tr>\n",
       "      <th>min</th>\n",
       "      <td>5.0</td>\n",
       "      <td>0.0</td>\n",
       "      <td>0.0</td>\n",
       "      <td>0.0</td>\n",
       "      <td>0.0</td>\n",
       "      <td>10.0</td>\n",
       "      <td>1.5</td>\n",
       "      <td>1960.0</td>\n",
       "      <td>0.0</td>\n",
       "      <td>0.0</td>\n",
       "    </tr>\n",
       "    <tr>\n",
       "      <th>25%</th>\n",
       "      <td>10596.2</td>\n",
       "      <td>0.2</td>\n",
       "      <td>0.0</td>\n",
       "      <td>0.0</td>\n",
       "      <td>90.0</td>\n",
       "      <td>17.0</td>\n",
       "      <td>5.4</td>\n",
       "      <td>1995.0</td>\n",
       "      <td>0.0</td>\n",
       "      <td>0.0</td>\n",
       "    </tr>\n",
       "    <tr>\n",
       "      <th>50%</th>\n",
       "      <td>20669.0</td>\n",
       "      <td>0.4</td>\n",
       "      <td>0.0</td>\n",
       "      <td>0.0</td>\n",
       "      <td>99.0</td>\n",
       "      <td>38.0</td>\n",
       "      <td>6.0</td>\n",
       "      <td>2006.0</td>\n",
       "      <td>0.0</td>\n",
       "      <td>0.0</td>\n",
       "    </tr>\n",
       "    <tr>\n",
       "      <th>75%</th>\n",
       "      <td>75610.0</td>\n",
       "      <td>0.7</td>\n",
       "      <td>15000000.0</td>\n",
       "      <td>24000000.0</td>\n",
       "      <td>111.0</td>\n",
       "      <td>145.8</td>\n",
       "      <td>6.6</td>\n",
       "      <td>2011.0</td>\n",
       "      <td>20853251.1</td>\n",
       "      <td>33697095.7</td>\n",
       "    </tr>\n",
       "    <tr>\n",
       "      <th>max</th>\n",
       "      <td>417859.0</td>\n",
       "      <td>33.0</td>\n",
       "      <td>425000000.0</td>\n",
       "      <td>2781505847.0</td>\n",
       "      <td>900.0</td>\n",
       "      <td>9767.0</td>\n",
       "      <td>9.2</td>\n",
       "      <td>2015.0</td>\n",
       "      <td>425000000.0</td>\n",
       "      <td>2827123750.0</td>\n",
       "    </tr>\n",
       "  </tbody>\n",
       "</table>\n",
       "</div>"
      ],
      "text/plain": [
       "            id  popularity      budget      revenue  runtime  vote_count  \\\n",
       "count  10866.0     10866.0     10866.0      10866.0  10866.0     10866.0   \n",
       "mean   66064.2         0.6  14625701.1   39823319.8    102.1       217.4   \n",
       "std    92130.1         1.0  30913213.8  117003486.6     31.4       575.6   \n",
       "min        5.0         0.0         0.0          0.0      0.0        10.0   \n",
       "25%    10596.2         0.2         0.0          0.0     90.0        17.0   \n",
       "50%    20669.0         0.4         0.0          0.0     99.0        38.0   \n",
       "75%    75610.0         0.7  15000000.0   24000000.0    111.0       145.8   \n",
       "max   417859.0        33.0 425000000.0 2781505847.0    900.0      9767.0   \n",
       "\n",
       "       vote_average  release_year  budget_adj  revenue_adj  \n",
       "count       10866.0       10866.0     10866.0      10866.0  \n",
       "mean            6.0        2001.3  17551039.8   51364363.3  \n",
       "std             0.9          12.8  34306155.7  144632485.0  \n",
       "min             1.5        1960.0         0.0          0.0  \n",
       "25%             5.4        1995.0         0.0          0.0  \n",
       "50%             6.0        2006.0         0.0          0.0  \n",
       "75%             6.6        2011.0  20853251.1   33697095.7  \n",
       "max             9.2        2015.0 425000000.0 2827123750.0  "
      ]
     },
     "execution_count": 241,
     "metadata": {},
     "output_type": "execute_result"
    }
   ],
   "source": [
    "tmdb_data.describe()"
   ]
  },
  {
   "cell_type": "code",
   "execution_count": 327,
   "metadata": {},
   "outputs": [
    {
     "data": {
      "text/html": [
       "<div>\n",
       "<style scoped>\n",
       "    .dataframe tbody tr th:only-of-type {\n",
       "        vertical-align: middle;\n",
       "    }\n",
       "\n",
       "    .dataframe tbody tr th {\n",
       "        vertical-align: top;\n",
       "    }\n",
       "\n",
       "    .dataframe thead th {\n",
       "        text-align: right;\n",
       "    }\n",
       "</style>\n",
       "<table border=\"1\" class=\"dataframe\">\n",
       "  <thead>\n",
       "    <tr style=\"text-align: right;\">\n",
       "      <th></th>\n",
       "      <th>budget</th>\n",
       "      <th>revenue</th>\n",
       "      <th>original_title</th>\n",
       "      <th>cast</th>\n",
       "      <th>director</th>\n",
       "      <th>runtime</th>\n",
       "      <th>genres</th>\n",
       "      <th>production_companies</th>\n",
       "      <th>release_date</th>\n",
       "      <th>vote_count</th>\n",
       "      <th>vote_average</th>\n",
       "      <th>release_year</th>\n",
       "      <th>profit</th>\n",
       "      <th>profit_perc</th>\n",
       "    </tr>\n",
       "  </thead>\n",
       "  <tbody>\n",
       "    <tr>\n",
       "      <th>30</th>\n",
       "      <td>0</td>\n",
       "      <td>29355203</td>\n",
       "      <td>Mr. Holmes</td>\n",
       "      <td>Ian McKellen|Milo Parker|Laura Linney|Hattie M...</td>\n",
       "      <td>Bill Condon</td>\n",
       "      <td>103</td>\n",
       "      <td>Mystery|Drama</td>\n",
       "      <td>BBC Films|See-Saw Films|FilmNation Entertainme...</td>\n",
       "      <td>2015-06-19</td>\n",
       "      <td>425</td>\n",
       "      <td>6</td>\n",
       "      <td>2015</td>\n",
       "      <td>29355203</td>\n",
       "      <td>inf</td>\n",
       "    </tr>\n",
       "    <tr>\n",
       "      <th>36</th>\n",
       "      <td>0</td>\n",
       "      <td>22354572</td>\n",
       "      <td>Solace</td>\n",
       "      <td>Abbie Cornish|Jeffrey Dean Morgan|Colin Farrel...</td>\n",
       "      <td>Afonso Poyart</td>\n",
       "      <td>101</td>\n",
       "      <td>Crime|Drama|Mystery</td>\n",
       "      <td>Eden Rock Media|FilmNation Entertainment|Flynn...</td>\n",
       "      <td>2015-09-03</td>\n",
       "      <td>474</td>\n",
       "      <td>6</td>\n",
       "      <td>2015</td>\n",
       "      <td>22354572</td>\n",
       "      <td>inf</td>\n",
       "    </tr>\n",
       "  </tbody>\n",
       "</table>\n",
       "</div>"
      ],
      "text/plain": [
       "    budget   revenue original_title  \\\n",
       "30       0  29355203     Mr. Holmes   \n",
       "36       0  22354572         Solace   \n",
       "\n",
       "                                                 cast       director  runtime  \\\n",
       "30  Ian McKellen|Milo Parker|Laura Linney|Hattie M...    Bill Condon      103   \n",
       "36  Abbie Cornish|Jeffrey Dean Morgan|Colin Farrel...  Afonso Poyart      101   \n",
       "\n",
       "                 genres                               production_companies  \\\n",
       "30        Mystery|Drama  BBC Films|See-Saw Films|FilmNation Entertainme...   \n",
       "36  Crime|Drama|Mystery  Eden Rock Media|FilmNation Entertainment|Flynn...   \n",
       "\n",
       "   release_date  vote_count  vote_average  release_year    profit  profit_perc  \n",
       "30   2015-06-19         425             6          2015  29355203          inf  \n",
       "36   2015-09-03         474             6          2015  22354572          inf  "
      ]
     },
     "execution_count": 327,
     "metadata": {},
     "output_type": "execute_result"
    }
   ],
   "source": [
    "tmdb_data[tmdb_data.budget==0].head(2)"
   ]
  },
  {
   "cell_type": "markdown",
   "metadata": {},
   "source": [
    "##### Noticed that there are lot of rows (more than 50%) where budget or revenue is zero.\n",
    ">##### Not dropping the rows with either budget or revenue as zero because the other columns for these rows have meaningful and usable information, so making an assumption on lowest value for budget and revenue to be 1000.\n",
    ">##### Popularity will be dropped as a column since mean value is 0.6 only and doesn't seem to be usable.\n",
    ">##### Another dataframe is created for budget and revenue calculations "
   ]
  },
  {
   "cell_type": "code",
   "execution_count": 243,
   "metadata": {},
   "outputs": [
    {
     "data": {
      "text/plain": [
       "id                      5755\n",
       "imdb_id                 5745\n",
       "popularity              5755\n",
       "budget                  5755\n",
       "revenue                 5755\n",
       "original_title          5755\n",
       "cast                    5688\n",
       "homepage                1247\n",
       "director                5715\n",
       "tagline                 3529\n",
       "keywords                4579\n",
       "overview                5751\n",
       "runtime                 5755\n",
       "genres                  5733\n",
       "production_companies    4856\n",
       "release_date            5755\n",
       "vote_count              5755\n",
       "vote_average            5755\n",
       "release_year            5755\n",
       "budget_adj              5755\n",
       "revenue_adj             5755\n",
       "dtype: int64"
      ]
     },
     "execution_count": 243,
     "metadata": {},
     "output_type": "execute_result"
    }
   ],
   "source": [
    "df=tmdb_data[tmdb_data.budget<1000]\n",
    "df.count()"
   ]
  },
  {
   "cell_type": "markdown",
   "metadata": {},
   "source": [
    "#### 1. Dropping un-neccessary variables"
   ]
  },
  {
   "cell_type": "code",
   "execution_count": 330,
   "metadata": {},
   "outputs": [
    {
     "data": {
      "text/html": [
       "<div>\n",
       "<style scoped>\n",
       "    .dataframe tbody tr th:only-of-type {\n",
       "        vertical-align: middle;\n",
       "    }\n",
       "\n",
       "    .dataframe tbody tr th {\n",
       "        vertical-align: top;\n",
       "    }\n",
       "\n",
       "    .dataframe thead th {\n",
       "        text-align: right;\n",
       "    }\n",
       "</style>\n",
       "<table border=\"1\" class=\"dataframe\">\n",
       "  <thead>\n",
       "    <tr style=\"text-align: right;\">\n",
       "      <th></th>\n",
       "      <th>budget</th>\n",
       "      <th>revenue</th>\n",
       "      <th>original_title</th>\n",
       "      <th>cast</th>\n",
       "      <th>director</th>\n",
       "      <th>runtime</th>\n",
       "      <th>genres</th>\n",
       "      <th>production_companies</th>\n",
       "      <th>release_date</th>\n",
       "      <th>vote_count</th>\n",
       "      <th>vote_average</th>\n",
       "      <th>release_year</th>\n",
       "    </tr>\n",
       "  </thead>\n",
       "  <tbody>\n",
       "    <tr>\n",
       "      <th>0</th>\n",
       "      <td>150000000</td>\n",
       "      <td>1513528810</td>\n",
       "      <td>Jurassic World</td>\n",
       "      <td>Chris Pratt|Bryce Dallas Howard|Irrfan Khan|Vi...</td>\n",
       "      <td>Colin Trevorrow</td>\n",
       "      <td>124</td>\n",
       "      <td>Action|Adventure|Science Fiction|Thriller</td>\n",
       "      <td>Universal Studios|Amblin Entertainment|Legenda...</td>\n",
       "      <td>6/9/2015</td>\n",
       "      <td>5562</td>\n",
       "      <td>6.5</td>\n",
       "      <td>2015</td>\n",
       "    </tr>\n",
       "    <tr>\n",
       "      <th>1</th>\n",
       "      <td>150000000</td>\n",
       "      <td>378436354</td>\n",
       "      <td>Mad Max: Fury Road</td>\n",
       "      <td>Tom Hardy|Charlize Theron|Hugh Keays-Byrne|Nic...</td>\n",
       "      <td>George Miller</td>\n",
       "      <td>120</td>\n",
       "      <td>Action|Adventure|Science Fiction|Thriller</td>\n",
       "      <td>Village Roadshow Pictures|Kennedy Miller Produ...</td>\n",
       "      <td>5/13/2015</td>\n",
       "      <td>6185</td>\n",
       "      <td>7.1</td>\n",
       "      <td>2015</td>\n",
       "    </tr>\n",
       "  </tbody>\n",
       "</table>\n",
       "</div>"
      ],
      "text/plain": [
       "      budget     revenue      original_title  \\\n",
       "0  150000000  1513528810      Jurassic World   \n",
       "1  150000000   378436354  Mad Max: Fury Road   \n",
       "\n",
       "                                                cast         director  \\\n",
       "0  Chris Pratt|Bryce Dallas Howard|Irrfan Khan|Vi...  Colin Trevorrow   \n",
       "1  Tom Hardy|Charlize Theron|Hugh Keays-Byrne|Nic...    George Miller   \n",
       "\n",
       "   runtime                                     genres  \\\n",
       "0      124  Action|Adventure|Science Fiction|Thriller   \n",
       "1      120  Action|Adventure|Science Fiction|Thriller   \n",
       "\n",
       "                                production_companies release_date  vote_count  \\\n",
       "0  Universal Studios|Amblin Entertainment|Legenda...     6/9/2015        5562   \n",
       "1  Village Roadshow Pictures|Kennedy Miller Produ...    5/13/2015        6185   \n",
       "\n",
       "   vote_average  release_year  \n",
       "0           6.5          2015  \n",
       "1           7.1          2015  "
      ]
     },
     "execution_count": 330,
     "metadata": {},
     "output_type": "execute_result"
    }
   ],
   "source": [
    "#creating a list of colums to be deleted\n",
    "del_cols=[ 'id', 'imdb_id', 'popularity','budget_adj', 'revenue_adj', 'homepage', 'overview','keywords','tagline']\n",
    "\n",
    "#deleting the columns\n",
    "tmdb_data= tmdb_data.drop(del_cols,1)\n",
    "\n",
    "#previewing the new dataset\n",
    "tmdb_data.head(2)"
   ]
  },
  {
   "cell_type": "markdown",
   "metadata": {},
   "source": [
    "#### 2. Removing Duplicates"
   ]
  },
  {
   "cell_type": "code",
   "execution_count": 245,
   "metadata": {},
   "outputs": [
    {
     "data": {
      "text/plain": [
       "(10865, 12)"
      ]
     },
     "execution_count": 245,
     "metadata": {},
     "output_type": "execute_result"
    }
   ],
   "source": [
    "#Removing duplicate rows\n",
    "tmdb_data.drop_duplicates(keep ='first', inplace=True)\n",
    "tmdb_data.shape"
   ]
  },
  {
   "cell_type": "code",
   "execution_count": 246,
   "metadata": {},
   "outputs": [
    {
     "data": {
      "text/plain": [
       "budget                     0\n",
       "revenue                    0\n",
       "original_title             0\n",
       "cast                      76\n",
       "director                  44\n",
       "runtime                    0\n",
       "genres                    23\n",
       "production_companies    1030\n",
       "release_date               0\n",
       "vote_count                 0\n",
       "vote_average               0\n",
       "release_year               0\n",
       "dtype: int64"
      ]
     },
     "execution_count": 246,
     "metadata": {},
     "output_type": "execute_result"
    }
   ],
   "source": [
    "# Checking for missings rows but since columns used in calculations (budget & revenue) \n",
    "# do not have any missings so not dropping any rows\n",
    "tmdb_data.isnull().sum()"
   ]
  },
  {
   "cell_type": "markdown",
   "metadata": {},
   "source": [
    "#### 3. converting release_date column to date"
   ]
  },
  {
   "cell_type": "code",
   "execution_count": 247,
   "metadata": {},
   "outputs": [
    {
     "data": {
      "text/html": [
       "<div>\n",
       "<style scoped>\n",
       "    .dataframe tbody tr th:only-of-type {\n",
       "        vertical-align: middle;\n",
       "    }\n",
       "\n",
       "    .dataframe tbody tr th {\n",
       "        vertical-align: top;\n",
       "    }\n",
       "\n",
       "    .dataframe thead th {\n",
       "        text-align: right;\n",
       "    }\n",
       "</style>\n",
       "<table border=\"1\" class=\"dataframe\">\n",
       "  <thead>\n",
       "    <tr style=\"text-align: right;\">\n",
       "      <th></th>\n",
       "      <th>budget</th>\n",
       "      <th>revenue</th>\n",
       "      <th>original_title</th>\n",
       "      <th>cast</th>\n",
       "      <th>director</th>\n",
       "      <th>runtime</th>\n",
       "      <th>genres</th>\n",
       "      <th>production_companies</th>\n",
       "      <th>release_date</th>\n",
       "      <th>vote_count</th>\n",
       "      <th>vote_average</th>\n",
       "      <th>release_year</th>\n",
       "    </tr>\n",
       "  </thead>\n",
       "  <tbody>\n",
       "    <tr>\n",
       "      <th>0</th>\n",
       "      <td>150000000</td>\n",
       "      <td>1513528810</td>\n",
       "      <td>Jurassic World</td>\n",
       "      <td>Chris Pratt|Bryce Dallas Howard|Irrfan Khan|Vi...</td>\n",
       "      <td>Colin Trevorrow</td>\n",
       "      <td>124</td>\n",
       "      <td>Action|Adventure|Science Fiction|Thriller</td>\n",
       "      <td>Universal Studios|Amblin Entertainment|Legenda...</td>\n",
       "      <td>2015-06-09</td>\n",
       "      <td>5562</td>\n",
       "      <td>6.5</td>\n",
       "      <td>2015</td>\n",
       "    </tr>\n",
       "    <tr>\n",
       "      <th>1</th>\n",
       "      <td>150000000</td>\n",
       "      <td>378436354</td>\n",
       "      <td>Mad Max: Fury Road</td>\n",
       "      <td>Tom Hardy|Charlize Theron|Hugh Keays-Byrne|Nic...</td>\n",
       "      <td>George Miller</td>\n",
       "      <td>120</td>\n",
       "      <td>Action|Adventure|Science Fiction|Thriller</td>\n",
       "      <td>Village Roadshow Pictures|Kennedy Miller Produ...</td>\n",
       "      <td>2015-05-13</td>\n",
       "      <td>6185</td>\n",
       "      <td>7.1</td>\n",
       "      <td>2015</td>\n",
       "    </tr>\n",
       "  </tbody>\n",
       "</table>\n",
       "</div>"
      ],
      "text/plain": [
       "      budget     revenue      original_title  \\\n",
       "0  150000000  1513528810      Jurassic World   \n",
       "1  150000000   378436354  Mad Max: Fury Road   \n",
       "\n",
       "                                                cast         director  \\\n",
       "0  Chris Pratt|Bryce Dallas Howard|Irrfan Khan|Vi...  Colin Trevorrow   \n",
       "1  Tom Hardy|Charlize Theron|Hugh Keays-Byrne|Nic...    George Miller   \n",
       "\n",
       "   runtime                                     genres  \\\n",
       "0      124  Action|Adventure|Science Fiction|Thriller   \n",
       "1      120  Action|Adventure|Science Fiction|Thriller   \n",
       "\n",
       "                                production_companies release_date  vote_count  \\\n",
       "0  Universal Studios|Amblin Entertainment|Legenda...   2015-06-09        5562   \n",
       "1  Village Roadshow Pictures|Kennedy Miller Produ...   2015-05-13        6185   \n",
       "\n",
       "   vote_average  release_year  \n",
       "0           6.5          2015  \n",
       "1           7.1          2015  "
      ]
     },
     "execution_count": 247,
     "metadata": {},
     "output_type": "execute_result"
    }
   ],
   "source": [
    "tmdb_data.release_date = pd.to_datetime(tmdb_data['release_date'])\n",
    "tmdb_data.head(2)"
   ]
  },
  {
   "cell_type": "markdown",
   "metadata": {},
   "source": [
    "#### 4. Changing format of budget, revenue, popularity and vote_average columns"
   ]
  },
  {
   "cell_type": "code",
   "execution_count": 248,
   "metadata": {},
   "outputs": [
    {
     "name": "stdout",
     "output_type": "stream",
     "text": [
      "<class 'pandas.core.frame.DataFrame'>\n",
      "Int64Index: 10865 entries, 0 to 10865\n",
      "Data columns (total 12 columns):\n",
      "budget                  10865 non-null int64\n",
      "revenue                 10865 non-null int64\n",
      "original_title          10865 non-null object\n",
      "cast                    10789 non-null object\n",
      "director                10821 non-null object\n",
      "runtime                 10865 non-null int64\n",
      "genres                  10842 non-null object\n",
      "production_companies    9835 non-null object\n",
      "release_date            10865 non-null datetime64[ns]\n",
      "vote_count              10865 non-null int64\n",
      "vote_average            10865 non-null int64\n",
      "release_year            10865 non-null int64\n",
      "dtypes: datetime64[ns](1), int64(6), object(5)\n",
      "memory usage: 1.1+ MB\n"
     ]
    }
   ],
   "source": [
    "change_cols=['budget', 'revenue','vote_average']\n",
    "#changing data type\n",
    "tmdb_data[change_cols]=tmdb_data[change_cols].applymap(np.int64)\n",
    "#printing the changed information\n",
    "tmdb_data.info()"
   ]
  },
  {
   "cell_type": "code",
   "execution_count": 249,
   "metadata": {},
   "outputs": [],
   "source": [
    "# changing display of numerical columns to suppress scientific notation\n",
    "pd.set_option('display.float_format', lambda x: '%.1f' % x)"
   ]
  },
  {
   "cell_type": "markdown",
   "metadata": {},
   "source": [
    "#### 5. Creating a separate dataframe with values>1000"
   ]
  },
  {
   "cell_type": "code",
   "execution_count": 250,
   "metadata": {},
   "outputs": [
    {
     "data": {
      "text/plain": [
       "(3819, 12)"
      ]
     },
     "execution_count": 250,
     "metadata": {},
     "output_type": "execute_result"
    }
   ],
   "source": [
    "#creating separate dataframe for budget and revenue calculations\n",
    "num_data=tmdb_data[(tmdb_data.budget>1000) & (tmdb_data.revenue>1000)]\n",
    "num_data.shape"
   ]
  },
  {
   "cell_type": "markdown",
   "metadata": {},
   "source": [
    "<a id='analysis'></a>\n",
    "## Exploratory Analysis:"
   ]
  },
  {
   "cell_type": "code",
   "execution_count": 251,
   "metadata": {
    "collapsed": true
   },
   "outputs": [
    {
     "name": "stderr",
     "output_type": "stream",
     "text": [
      "/opt/anaconda3/lib/python3.6/site-packages/ipykernel_launcher.py:2: SettingWithCopyWarning: \n",
      "A value is trying to be set on a copy of a slice from a DataFrame.\n",
      "Try using .loc[row_indexer,col_indexer] = value instead\n",
      "\n",
      "See the caveats in the documentation: http://pandas.pydata.org/pandas-docs/stable/indexing.html#indexing-view-versus-copy\n",
      "  \n",
      "/opt/anaconda3/lib/python3.6/site-packages/ipykernel_launcher.py:3: SettingWithCopyWarning: \n",
      "A value is trying to be set on a copy of a slice from a DataFrame.\n",
      "Try using .loc[row_indexer,col_indexer] = value instead\n",
      "\n",
      "See the caveats in the documentation: http://pandas.pydata.org/pandas-docs/stable/indexing.html#indexing-view-versus-copy\n",
      "  This is separate from the ipykernel package so we can avoid doing imports until\n"
     ]
    },
    {
     "data": {
      "text/plain": [
       "(3819, 14)"
      ]
     },
     "execution_count": 251,
     "metadata": {},
     "output_type": "execute_result"
    }
   ],
   "source": [
    "#Calculating profit for each movie\n",
    "num_data['profit']=num_data['revenue']-num_data['budget']\n",
    "num_data['profit_perc']=(num_data['profit']/num_data['budget'])*100\n",
    "num_data.shape"
   ]
  },
  {
   "cell_type": "markdown",
   "metadata": {},
   "source": [
    "The dataset is reduced to 3,819 rows from 10,865 in previous"
   ]
  },
  {
   "cell_type": "markdown",
   "metadata": {},
   "source": [
    "#### Question 1 - What is the average budget, revenue and runtime of a movie?"
   ]
  },
  {
   "cell_type": "code",
   "execution_count": 252,
   "metadata": {},
   "outputs": [
    {
     "data": {
      "text/html": [
       "<div>\n",
       "<style scoped>\n",
       "    .dataframe tbody tr th:only-of-type {\n",
       "        vertical-align: middle;\n",
       "    }\n",
       "\n",
       "    .dataframe tbody tr th {\n",
       "        vertical-align: top;\n",
       "    }\n",
       "\n",
       "    .dataframe thead th {\n",
       "        text-align: right;\n",
       "    }\n",
       "</style>\n",
       "<table border=\"1\" class=\"dataframe\">\n",
       "  <thead>\n",
       "    <tr style=\"text-align: right;\">\n",
       "      <th></th>\n",
       "      <th>budget</th>\n",
       "      <th>revenue</th>\n",
       "      <th>runtime</th>\n",
       "      <th>vote_count</th>\n",
       "      <th>vote_average</th>\n",
       "      <th>release_year</th>\n",
       "      <th>profit</th>\n",
       "      <th>profit_perc</th>\n",
       "    </tr>\n",
       "  </thead>\n",
       "  <tbody>\n",
       "    <tr>\n",
       "      <th>count</th>\n",
       "      <td>3819.0</td>\n",
       "      <td>3819.0</td>\n",
       "      <td>3819.0</td>\n",
       "      <td>3819.0</td>\n",
       "      <td>3819.0</td>\n",
       "      <td>3819.0</td>\n",
       "      <td>3819.0</td>\n",
       "      <td>3819.0</td>\n",
       "    </tr>\n",
       "    <tr>\n",
       "      <th>mean</th>\n",
       "      <td>37462018.2</td>\n",
       "      <td>108640982.3</td>\n",
       "      <td>109.3</td>\n",
       "      <td>531.6</td>\n",
       "      <td>5.7</td>\n",
       "      <td>2001.3</td>\n",
       "      <td>71178964.1</td>\n",
       "      <td>1021.7</td>\n",
       "    </tr>\n",
       "    <tr>\n",
       "      <th>std</th>\n",
       "      <td>42262678.4</td>\n",
       "      <td>177054104.9</td>\n",
       "      <td>19.8</td>\n",
       "      <td>882.9</td>\n",
       "      <td>0.8</td>\n",
       "      <td>11.3</td>\n",
       "      <td>151104306.6</td>\n",
       "      <td>26398.1</td>\n",
       "    </tr>\n",
       "    <tr>\n",
       "      <th>min</th>\n",
       "      <td>6000.0</td>\n",
       "      <td>1938.0</td>\n",
       "      <td>26.0</td>\n",
       "      <td>10.0</td>\n",
       "      <td>2.0</td>\n",
       "      <td>1960.0</td>\n",
       "      <td>-413912431.0</td>\n",
       "      <td>-100.0</td>\n",
       "    </tr>\n",
       "    <tr>\n",
       "      <th>25%</th>\n",
       "      <td>10000000.0</td>\n",
       "      <td>14163246.0</td>\n",
       "      <td>96.0</td>\n",
       "      <td>72.0</td>\n",
       "      <td>5.0</td>\n",
       "      <td>1995.5</td>\n",
       "      <td>-1286002.5</td>\n",
       "      <td>-11.8</td>\n",
       "    </tr>\n",
       "    <tr>\n",
       "      <th>50%</th>\n",
       "      <td>24000000.0</td>\n",
       "      <td>45892212.0</td>\n",
       "      <td>106.0</td>\n",
       "      <td>206.0</td>\n",
       "      <td>6.0</td>\n",
       "      <td>2004.0</td>\n",
       "      <td>20451307.0</td>\n",
       "      <td>112.6</td>\n",
       "    </tr>\n",
       "    <tr>\n",
       "      <th>75%</th>\n",
       "      <td>50000000.0</td>\n",
       "      <td>125561662.5</td>\n",
       "      <td>119.0</td>\n",
       "      <td>583.0</td>\n",
       "      <td>6.0</td>\n",
       "      <td>2010.0</td>\n",
       "      <td>82790810.0</td>\n",
       "      <td>320.9</td>\n",
       "    </tr>\n",
       "    <tr>\n",
       "      <th>max</th>\n",
       "      <td>425000000.0</td>\n",
       "      <td>2781505847.0</td>\n",
       "      <td>338.0</td>\n",
       "      <td>9767.0</td>\n",
       "      <td>8.0</td>\n",
       "      <td>2015.0</td>\n",
       "      <td>2544505847.0</td>\n",
       "      <td>1288938.7</td>\n",
       "    </tr>\n",
       "  </tbody>\n",
       "</table>\n",
       "</div>"
      ],
      "text/plain": [
       "           budget      revenue  runtime  vote_count  vote_average  \\\n",
       "count      3819.0       3819.0   3819.0      3819.0        3819.0   \n",
       "mean   37462018.2  108640982.3    109.3       531.6           5.7   \n",
       "std    42262678.4  177054104.9     19.8       882.9           0.8   \n",
       "min        6000.0       1938.0     26.0        10.0           2.0   \n",
       "25%    10000000.0   14163246.0     96.0        72.0           5.0   \n",
       "50%    24000000.0   45892212.0    106.0       206.0           6.0   \n",
       "75%    50000000.0  125561662.5    119.0       583.0           6.0   \n",
       "max   425000000.0 2781505847.0    338.0      9767.0           8.0   \n",
       "\n",
       "       release_year       profit  profit_perc  \n",
       "count        3819.0       3819.0       3819.0  \n",
       "mean         2001.3   71178964.1       1021.7  \n",
       "std            11.3  151104306.6      26398.1  \n",
       "min          1960.0 -413912431.0       -100.0  \n",
       "25%          1995.5   -1286002.5        -11.8  \n",
       "50%          2004.0   20451307.0        112.6  \n",
       "75%          2010.0   82790810.0        320.9  \n",
       "max          2015.0 2544505847.0    1288938.7  "
      ]
     },
     "execution_count": 252,
     "metadata": {},
     "output_type": "execute_result"
    }
   ],
   "source": [
    "num_data.describe()"
   ]
  },
  {
   "cell_type": "markdown",
   "metadata": {},
   "source": [
    "Average Budget of a movie is 24,000,000 while \n",
    "Average Revenue of a movie is 45,892,212"
   ]
  },
  {
   "cell_type": "code",
   "execution_count": 257,
   "metadata": {},
   "outputs": [
    {
     "data": {
      "text/plain": [
       "(10865, 14)"
      ]
     },
     "execution_count": 257,
     "metadata": {},
     "output_type": "execute_result"
    }
   ],
   "source": [
    "# Calculating profit for entire dataset as well to view as part of results for analysis on other columns\n",
    "tmdb_data['profit']=tmdb_data['revenue']-tmdb_data['budget']\n",
    "tmdb_data['profit_perc']=(tmdb_data['profit']/tmdb_data['budget'])*100\n",
    "tmdb_data.shape"
   ]
  },
  {
   "cell_type": "code",
   "execution_count": 258,
   "metadata": {},
   "outputs": [
    {
     "data": {
      "text/html": [
       "<div>\n",
       "<style scoped>\n",
       "    .dataframe tbody tr th:only-of-type {\n",
       "        vertical-align: middle;\n",
       "    }\n",
       "\n",
       "    .dataframe tbody tr th {\n",
       "        vertical-align: top;\n",
       "    }\n",
       "\n",
       "    .dataframe thead th {\n",
       "        text-align: right;\n",
       "    }\n",
       "</style>\n",
       "<table border=\"1\" class=\"dataframe\">\n",
       "  <thead>\n",
       "    <tr style=\"text-align: right;\">\n",
       "      <th></th>\n",
       "      <th>budget</th>\n",
       "      <th>revenue</th>\n",
       "      <th>runtime</th>\n",
       "      <th>vote_count</th>\n",
       "      <th>vote_average</th>\n",
       "      <th>release_year</th>\n",
       "      <th>profit</th>\n",
       "      <th>profit_perc</th>\n",
       "    </tr>\n",
       "  </thead>\n",
       "  <tbody>\n",
       "    <tr>\n",
       "      <th>count</th>\n",
       "      <td>10865.0</td>\n",
       "      <td>10865.0</td>\n",
       "      <td>10865.0</td>\n",
       "      <td>10865.0</td>\n",
       "      <td>10865.0</td>\n",
       "      <td>10865.0</td>\n",
       "      <td>10865.0</td>\n",
       "      <td>6164.0</td>\n",
       "    </tr>\n",
       "    <tr>\n",
       "      <th>mean</th>\n",
       "      <td>14624286.1</td>\n",
       "      <td>39826896.1</td>\n",
       "      <td>102.1</td>\n",
       "      <td>217.4</td>\n",
       "      <td>5.5</td>\n",
       "      <td>2001.3</td>\n",
       "      <td>25202610.0</td>\n",
       "      <td>inf</td>\n",
       "    </tr>\n",
       "    <tr>\n",
       "      <th>std</th>\n",
       "      <td>30914284.6</td>\n",
       "      <td>117008277.5</td>\n",
       "      <td>31.4</td>\n",
       "      <td>575.6</td>\n",
       "      <td>1.0</td>\n",
       "      <td>12.8</td>\n",
       "      <td>96591029.8</td>\n",
       "      <td>nan</td>\n",
       "    </tr>\n",
       "    <tr>\n",
       "      <th>min</th>\n",
       "      <td>0.0</td>\n",
       "      <td>0.0</td>\n",
       "      <td>0.0</td>\n",
       "      <td>10.0</td>\n",
       "      <td>1.0</td>\n",
       "      <td>1960.0</td>\n",
       "      <td>-413912431.0</td>\n",
       "      <td>-100.0</td>\n",
       "    </tr>\n",
       "    <tr>\n",
       "      <th>25%</th>\n",
       "      <td>0.0</td>\n",
       "      <td>0.0</td>\n",
       "      <td>90.0</td>\n",
       "      <td>17.0</td>\n",
       "      <td>5.0</td>\n",
       "      <td>1995.0</td>\n",
       "      <td>0.0</td>\n",
       "      <td>-86.1</td>\n",
       "    </tr>\n",
       "    <tr>\n",
       "      <th>50%</th>\n",
       "      <td>0.0</td>\n",
       "      <td>0.0</td>\n",
       "      <td>99.0</td>\n",
       "      <td>38.0</td>\n",
       "      <td>6.0</td>\n",
       "      <td>2006.0</td>\n",
       "      <td>0.0</td>\n",
       "      <td>89.8</td>\n",
       "    </tr>\n",
       "    <tr>\n",
       "      <th>75%</th>\n",
       "      <td>15000000.0</td>\n",
       "      <td>24000000.0</td>\n",
       "      <td>111.0</td>\n",
       "      <td>146.0</td>\n",
       "      <td>6.0</td>\n",
       "      <td>2011.0</td>\n",
       "      <td>9092453.0</td>\n",
       "      <td>579.3</td>\n",
       "    </tr>\n",
       "    <tr>\n",
       "      <th>max</th>\n",
       "      <td>425000000.0</td>\n",
       "      <td>2781505847.0</td>\n",
       "      <td>900.0</td>\n",
       "      <td>9767.0</td>\n",
       "      <td>9.0</td>\n",
       "      <td>2015.0</td>\n",
       "      <td>2544505847.0</td>\n",
       "      <td>inf</td>\n",
       "    </tr>\n",
       "  </tbody>\n",
       "</table>\n",
       "</div>"
      ],
      "text/plain": [
       "           budget      revenue  runtime  vote_count  vote_average  \\\n",
       "count     10865.0      10865.0  10865.0     10865.0       10865.0   \n",
       "mean   14624286.1   39826896.1    102.1       217.4           5.5   \n",
       "std    30914284.6  117008277.5     31.4       575.6           1.0   \n",
       "min           0.0          0.0      0.0        10.0           1.0   \n",
       "25%           0.0          0.0     90.0        17.0           5.0   \n",
       "50%           0.0          0.0     99.0        38.0           6.0   \n",
       "75%    15000000.0   24000000.0    111.0       146.0           6.0   \n",
       "max   425000000.0 2781505847.0    900.0      9767.0           9.0   \n",
       "\n",
       "       release_year       profit  profit_perc  \n",
       "count       10865.0      10865.0       6164.0  \n",
       "mean         2001.3   25202610.0          inf  \n",
       "std            12.8   96591029.8          nan  \n",
       "min          1960.0 -413912431.0       -100.0  \n",
       "25%          1995.0          0.0        -86.1  \n",
       "50%          2006.0          0.0         89.8  \n",
       "75%          2011.0    9092453.0        579.3  \n",
       "max          2015.0 2544505847.0          inf  "
      ]
     },
     "execution_count": 258,
     "metadata": {},
     "output_type": "execute_result"
    }
   ],
   "source": [
    "tmdb_data.describe()"
   ]
  },
  {
   "cell_type": "markdown",
   "metadata": {},
   "source": [
    "Average runtime of a movie is 99 minutes"
   ]
  },
  {
   "cell_type": "markdown",
   "metadata": {},
   "source": [
    "#### Defining a function which will calculate Highest & Lowest values of different columns"
   ]
  },
  {
   "cell_type": "code",
   "execution_count": 259,
   "metadata": {},
   "outputs": [],
   "source": [
    "# declaring variables to view in results everytime\n",
    "cols=['original_title', 'release_date', 'genres', 'director','revenue', 'budget', 'profit', 'profit_perc','vote_average','runtime']\n",
    "\n",
    "\n",
    "def top_low(data, var, top_text, low_text):\n",
    "    \n",
    "    # Top movie\n",
    "    top=(data.sort_values(by=var, ascending=False).head(1))[cols].reset_index(drop=True)\n",
    "    top.set_index([[top_text]*len(top)], inplace=True)\n",
    "\n",
    "    # Low movie\n",
    "    low=(data.sort_values(by=var, ascending=True).head(1))[cols].reset_index(drop=True)\n",
    "    low.set_index([[low_text]*len(low)], inplace=True)\n",
    "\n",
    "    final=top.append(low)\n",
    "    return final"
   ]
  },
  {
   "cell_type": "markdown",
   "metadata": {},
   "source": [
    "#### Question 2 - Most and least Profitable movies?"
   ]
  },
  {
   "cell_type": "code",
   "execution_count": 260,
   "metadata": {},
   "outputs": [
    {
     "data": {
      "text/html": [
       "<div>\n",
       "<style scoped>\n",
       "    .dataframe tbody tr th:only-of-type {\n",
       "        vertical-align: middle;\n",
       "    }\n",
       "\n",
       "    .dataframe tbody tr th {\n",
       "        vertical-align: top;\n",
       "    }\n",
       "\n",
       "    .dataframe thead th {\n",
       "        text-align: right;\n",
       "    }\n",
       "</style>\n",
       "<table border=\"1\" class=\"dataframe\">\n",
       "  <thead>\n",
       "    <tr style=\"text-align: right;\">\n",
       "      <th></th>\n",
       "      <th>original_title</th>\n",
       "      <th>release_date</th>\n",
       "      <th>genres</th>\n",
       "      <th>director</th>\n",
       "      <th>revenue</th>\n",
       "      <th>budget</th>\n",
       "      <th>profit</th>\n",
       "      <th>profit_perc</th>\n",
       "      <th>vote_average</th>\n",
       "      <th>runtime</th>\n",
       "    </tr>\n",
       "  </thead>\n",
       "  <tbody>\n",
       "    <tr>\n",
       "      <th>Most Profitable Movie</th>\n",
       "      <td>Paranormal Activity</td>\n",
       "      <td>2007-09-14</td>\n",
       "      <td>Horror|Mystery</td>\n",
       "      <td>Oren Peli</td>\n",
       "      <td>193355800</td>\n",
       "      <td>15000</td>\n",
       "      <td>193340800</td>\n",
       "      <td>1288938.7</td>\n",
       "      <td>6</td>\n",
       "      <td>86</td>\n",
       "    </tr>\n",
       "    <tr>\n",
       "      <th>Least Profitable Movie</th>\n",
       "      <td>Death Defying Acts</td>\n",
       "      <td>2007-09-13</td>\n",
       "      <td>Drama|Romance</td>\n",
       "      <td>Gillian Armstrong</td>\n",
       "      <td>3561</td>\n",
       "      <td>20000000</td>\n",
       "      <td>-19996439</td>\n",
       "      <td>-100.0</td>\n",
       "      <td>5</td>\n",
       "      <td>97</td>\n",
       "    </tr>\n",
       "  </tbody>\n",
       "</table>\n",
       "</div>"
      ],
      "text/plain": [
       "                             original_title release_date          genres  \\\n",
       "Most Profitable Movie   Paranormal Activity   2007-09-14  Horror|Mystery   \n",
       "Least Profitable Movie   Death Defying Acts   2007-09-13   Drama|Romance   \n",
       "\n",
       "                                 director    revenue    budget     profit  \\\n",
       "Most Profitable Movie           Oren Peli  193355800     15000  193340800   \n",
       "Least Profitable Movie  Gillian Armstrong       3561  20000000  -19996439   \n",
       "\n",
       "                        profit_perc  vote_average  runtime  \n",
       "Most Profitable Movie     1288938.7             6       86  \n",
       "Least Profitable Movie       -100.0             5       97  "
      ]
     },
     "execution_count": 260,
     "metadata": {},
     "output_type": "execute_result"
    }
   ],
   "source": [
    "top_low(num_data, 'profit_perc', 'Most Profitable Movie', 'Least Profitable Movie')"
   ]
  },
  {
   "cell_type": "markdown",
   "metadata": {},
   "source": [
    "#### Question 3 - Highest and lowest rated movies?"
   ]
  },
  {
   "cell_type": "code",
   "execution_count": 261,
   "metadata": {},
   "outputs": [
    {
     "data": {
      "text/html": [
       "<div>\n",
       "<style scoped>\n",
       "    .dataframe tbody tr th:only-of-type {\n",
       "        vertical-align: middle;\n",
       "    }\n",
       "\n",
       "    .dataframe tbody tr th {\n",
       "        vertical-align: top;\n",
       "    }\n",
       "\n",
       "    .dataframe thead th {\n",
       "        text-align: right;\n",
       "    }\n",
       "</style>\n",
       "<table border=\"1\" class=\"dataframe\">\n",
       "  <thead>\n",
       "    <tr style=\"text-align: right;\">\n",
       "      <th></th>\n",
       "      <th>original_title</th>\n",
       "      <th>release_date</th>\n",
       "      <th>genres</th>\n",
       "      <th>director</th>\n",
       "      <th>revenue</th>\n",
       "      <th>budget</th>\n",
       "      <th>profit</th>\n",
       "      <th>profit_perc</th>\n",
       "      <th>vote_average</th>\n",
       "      <th>runtime</th>\n",
       "    </tr>\n",
       "  </thead>\n",
       "  <tbody>\n",
       "    <tr>\n",
       "      <th>Highest Rated Movie</th>\n",
       "      <td>The Story of Film: An Odyssey</td>\n",
       "      <td>2011-09-03</td>\n",
       "      <td>Documentary</td>\n",
       "      <td>Mark Cousins</td>\n",
       "      <td>0</td>\n",
       "      <td>0</td>\n",
       "      <td>0</td>\n",
       "      <td>nan</td>\n",
       "      <td>9</td>\n",
       "      <td>900</td>\n",
       "    </tr>\n",
       "    <tr>\n",
       "      <th>Least Rated Movie</th>\n",
       "      <td>Manos: The Hands of Fate</td>\n",
       "      <td>1966-11-15</td>\n",
       "      <td>Horror</td>\n",
       "      <td>Harold P. Warren</td>\n",
       "      <td>0</td>\n",
       "      <td>19000</td>\n",
       "      <td>-19000</td>\n",
       "      <td>-100.0</td>\n",
       "      <td>1</td>\n",
       "      <td>74</td>\n",
       "    </tr>\n",
       "  </tbody>\n",
       "</table>\n",
       "</div>"
      ],
      "text/plain": [
       "                                    original_title release_date       genres  \\\n",
       "Highest Rated Movie  The Story of Film: An Odyssey   2011-09-03  Documentary   \n",
       "Least Rated Movie         Manos: The Hands of Fate   1966-11-15       Horror   \n",
       "\n",
       "                             director  revenue  budget  profit  profit_perc  \\\n",
       "Highest Rated Movie      Mark Cousins        0       0       0          nan   \n",
       "Least Rated Movie    Harold P. Warren        0   19000  -19000       -100.0   \n",
       "\n",
       "                     vote_average  runtime  \n",
       "Highest Rated Movie             9      900  \n",
       "Least Rated Movie               1       74  "
      ]
     },
     "execution_count": 261,
     "metadata": {},
     "output_type": "execute_result"
    }
   ],
   "source": [
    "top_low(tmdb_data, 'vote_average', 'Highest Rated Movie', 'Least Rated Movie')"
   ]
  },
  {
   "cell_type": "markdown",
   "metadata": {},
   "source": [
    "#### Question 4 - Highest and lowest revenue generating movies?"
   ]
  },
  {
   "cell_type": "code",
   "execution_count": 262,
   "metadata": {},
   "outputs": [
    {
     "data": {
      "text/html": [
       "<div>\n",
       "<style scoped>\n",
       "    .dataframe tbody tr th:only-of-type {\n",
       "        vertical-align: middle;\n",
       "    }\n",
       "\n",
       "    .dataframe tbody tr th {\n",
       "        vertical-align: top;\n",
       "    }\n",
       "\n",
       "    .dataframe thead th {\n",
       "        text-align: right;\n",
       "    }\n",
       "</style>\n",
       "<table border=\"1\" class=\"dataframe\">\n",
       "  <thead>\n",
       "    <tr style=\"text-align: right;\">\n",
       "      <th></th>\n",
       "      <th>original_title</th>\n",
       "      <th>release_date</th>\n",
       "      <th>genres</th>\n",
       "      <th>director</th>\n",
       "      <th>revenue</th>\n",
       "      <th>budget</th>\n",
       "      <th>profit</th>\n",
       "      <th>profit_perc</th>\n",
       "      <th>vote_average</th>\n",
       "      <th>runtime</th>\n",
       "    </tr>\n",
       "  </thead>\n",
       "  <tbody>\n",
       "    <tr>\n",
       "      <th>Highest Grossing Movie</th>\n",
       "      <td>Avatar</td>\n",
       "      <td>2009-12-10</td>\n",
       "      <td>Action|Adventure|Fantasy|Science Fiction</td>\n",
       "      <td>James Cameron</td>\n",
       "      <td>2781505847</td>\n",
       "      <td>237000000</td>\n",
       "      <td>2544505847</td>\n",
       "      <td>1073.6</td>\n",
       "      <td>7</td>\n",
       "      <td>162</td>\n",
       "    </tr>\n",
       "    <tr>\n",
       "      <th>Least Grossing Movie</th>\n",
       "      <td>Best Man Down</td>\n",
       "      <td>2012-10-20</td>\n",
       "      <td>Comedy|Drama</td>\n",
       "      <td>Ted Koland</td>\n",
       "      <td>1938</td>\n",
       "      <td>1500000</td>\n",
       "      <td>-1498062</td>\n",
       "      <td>-99.9</td>\n",
       "      <td>5</td>\n",
       "      <td>90</td>\n",
       "    </tr>\n",
       "  </tbody>\n",
       "</table>\n",
       "</div>"
      ],
      "text/plain": [
       "                       original_title release_date  \\\n",
       "Highest Grossing Movie         Avatar   2009-12-10   \n",
       "Least Grossing Movie    Best Man Down   2012-10-20   \n",
       "\n",
       "                                                          genres  \\\n",
       "Highest Grossing Movie  Action|Adventure|Fantasy|Science Fiction   \n",
       "Least Grossing Movie                                Comedy|Drama   \n",
       "\n",
       "                             director     revenue     budget      profit  \\\n",
       "Highest Grossing Movie  James Cameron  2781505847  237000000  2544505847   \n",
       "Least Grossing Movie       Ted Koland        1938    1500000    -1498062   \n",
       "\n",
       "                        profit_perc  vote_average  runtime  \n",
       "Highest Grossing Movie       1073.6             7      162  \n",
       "Least Grossing Movie          -99.9             5       90  "
      ]
     },
     "execution_count": 262,
     "metadata": {},
     "output_type": "execute_result"
    }
   ],
   "source": [
    "top_low(num_data, 'revenue', 'Highest Grossing Movie', 'Least Grossing Movie')"
   ]
  },
  {
   "cell_type": "markdown",
   "metadata": {},
   "source": [
    "#### Question 5 - Highest and lowest budget movies?"
   ]
  },
  {
   "cell_type": "code",
   "execution_count": 263,
   "metadata": {},
   "outputs": [
    {
     "data": {
      "text/html": [
       "<div>\n",
       "<style scoped>\n",
       "    .dataframe tbody tr th:only-of-type {\n",
       "        vertical-align: middle;\n",
       "    }\n",
       "\n",
       "    .dataframe tbody tr th {\n",
       "        vertical-align: top;\n",
       "    }\n",
       "\n",
       "    .dataframe thead th {\n",
       "        text-align: right;\n",
       "    }\n",
       "</style>\n",
       "<table border=\"1\" class=\"dataframe\">\n",
       "  <thead>\n",
       "    <tr style=\"text-align: right;\">\n",
       "      <th></th>\n",
       "      <th>original_title</th>\n",
       "      <th>release_date</th>\n",
       "      <th>genres</th>\n",
       "      <th>director</th>\n",
       "      <th>revenue</th>\n",
       "      <th>budget</th>\n",
       "      <th>profit</th>\n",
       "      <th>profit_perc</th>\n",
       "      <th>vote_average</th>\n",
       "      <th>runtime</th>\n",
       "    </tr>\n",
       "  </thead>\n",
       "  <tbody>\n",
       "    <tr>\n",
       "      <th>Highest Budget Movie</th>\n",
       "      <td>The Warrior's Way</td>\n",
       "      <td>2010-12-02</td>\n",
       "      <td>Adventure|Fantasy|Action|Western|Thriller</td>\n",
       "      <td>Sngmoo Lee</td>\n",
       "      <td>11087569</td>\n",
       "      <td>425000000</td>\n",
       "      <td>-413912431</td>\n",
       "      <td>-97.4</td>\n",
       "      <td>6</td>\n",
       "      <td>100</td>\n",
       "    </tr>\n",
       "    <tr>\n",
       "      <th>Least Budget Movie</th>\n",
       "      <td>Loose Change: Final Cut</td>\n",
       "      <td>2007-11-11</td>\n",
       "      <td>Documentary</td>\n",
       "      <td>Dylan Avery</td>\n",
       "      <td>6000</td>\n",
       "      <td>6000</td>\n",
       "      <td>0</td>\n",
       "      <td>0.0</td>\n",
       "      <td>5</td>\n",
       "      <td>129</td>\n",
       "    </tr>\n",
       "  </tbody>\n",
       "</table>\n",
       "</div>"
      ],
      "text/plain": [
       "                               original_title release_date  \\\n",
       "Highest Budget Movie        The Warrior's Way   2010-12-02   \n",
       "Least Budget Movie    Loose Change: Final Cut   2007-11-11   \n",
       "\n",
       "                                                         genres     director  \\\n",
       "Highest Budget Movie  Adventure|Fantasy|Action|Western|Thriller   Sngmoo Lee   \n",
       "Least Budget Movie                                  Documentary  Dylan Avery   \n",
       "\n",
       "                       revenue     budget     profit  profit_perc  \\\n",
       "Highest Budget Movie  11087569  425000000 -413912431        -97.4   \n",
       "Least Budget Movie        6000       6000          0          0.0   \n",
       "\n",
       "                      vote_average  runtime  \n",
       "Highest Budget Movie             6      100  \n",
       "Least Budget Movie               5      129  "
      ]
     },
     "execution_count": 263,
     "metadata": {},
     "output_type": "execute_result"
    }
   ],
   "source": [
    "top_low(num_data, 'budget', 'Highest Budget Movie', 'Least Budget Movie')"
   ]
  },
  {
   "cell_type": "markdown",
   "metadata": {},
   "source": [
    "#### Question 6 - Movies with longest and shortest run time?"
   ]
  },
  {
   "cell_type": "code",
   "execution_count": 264,
   "metadata": {},
   "outputs": [
    {
     "data": {
      "text/html": [
       "<div>\n",
       "<style scoped>\n",
       "    .dataframe tbody tr th:only-of-type {\n",
       "        vertical-align: middle;\n",
       "    }\n",
       "\n",
       "    .dataframe tbody tr th {\n",
       "        vertical-align: top;\n",
       "    }\n",
       "\n",
       "    .dataframe thead th {\n",
       "        text-align: right;\n",
       "    }\n",
       "</style>\n",
       "<table border=\"1\" class=\"dataframe\">\n",
       "  <thead>\n",
       "    <tr style=\"text-align: right;\">\n",
       "      <th></th>\n",
       "      <th>original_title</th>\n",
       "      <th>release_date</th>\n",
       "      <th>genres</th>\n",
       "      <th>director</th>\n",
       "      <th>revenue</th>\n",
       "      <th>budget</th>\n",
       "      <th>profit</th>\n",
       "      <th>profit_perc</th>\n",
       "      <th>vote_average</th>\n",
       "      <th>runtime</th>\n",
       "    </tr>\n",
       "  </thead>\n",
       "  <tbody>\n",
       "    <tr>\n",
       "      <th>Longest running Movie</th>\n",
       "      <td>Carlos</td>\n",
       "      <td>2010-05-19</td>\n",
       "      <td>Crime|Drama|Thriller|History</td>\n",
       "      <td>Olivier Assayas</td>\n",
       "      <td>871279</td>\n",
       "      <td>18000000</td>\n",
       "      <td>-17128721</td>\n",
       "      <td>-95.2</td>\n",
       "      <td>6</td>\n",
       "      <td>338</td>\n",
       "    </tr>\n",
       "    <tr>\n",
       "      <th>Shortest running Movie</th>\n",
       "      <td>Mickey's Christmas Carol</td>\n",
       "      <td>1983-10-19</td>\n",
       "      <td>Family|Animation</td>\n",
       "      <td>Burny Mattinson</td>\n",
       "      <td>21000000</td>\n",
       "      <td>3000000</td>\n",
       "      <td>18000000</td>\n",
       "      <td>600.0</td>\n",
       "      <td>7</td>\n",
       "      <td>26</td>\n",
       "    </tr>\n",
       "  </tbody>\n",
       "</table>\n",
       "</div>"
      ],
      "text/plain": [
       "                                  original_title release_date  \\\n",
       "Longest running Movie                     Carlos   2010-05-19   \n",
       "Shortest running Movie  Mickey's Christmas Carol   1983-10-19   \n",
       "\n",
       "                                              genres         director  \\\n",
       "Longest running Movie   Crime|Drama|Thriller|History  Olivier Assayas   \n",
       "Shortest running Movie              Family|Animation  Burny Mattinson   \n",
       "\n",
       "                         revenue    budget    profit  profit_perc  \\\n",
       "Longest running Movie     871279  18000000 -17128721        -95.2   \n",
       "Shortest running Movie  21000000   3000000  18000000        600.0   \n",
       "\n",
       "                        vote_average  runtime  \n",
       "Longest running Movie              6      338  \n",
       "Shortest running Movie             7       26  "
      ]
     },
     "execution_count": 264,
     "metadata": {},
     "output_type": "execute_result"
    }
   ],
   "source": [
    "top_low(num_data, 'runtime', 'Longest running Movie', 'Shortest running Movie')"
   ]
  },
  {
   "cell_type": "markdown",
   "metadata": {},
   "source": [
    "### Subsetting profitable movies for further analysis"
   ]
  },
  {
   "cell_type": "code",
   "execution_count": 265,
   "metadata": {},
   "outputs": [
    {
     "data": {
      "text/html": [
       "<div>\n",
       "<style scoped>\n",
       "    .dataframe tbody tr th:only-of-type {\n",
       "        vertical-align: middle;\n",
       "    }\n",
       "\n",
       "    .dataframe tbody tr th {\n",
       "        vertical-align: top;\n",
       "    }\n",
       "\n",
       "    .dataframe thead th {\n",
       "        text-align: right;\n",
       "    }\n",
       "</style>\n",
       "<table border=\"1\" class=\"dataframe\">\n",
       "  <thead>\n",
       "    <tr style=\"text-align: right;\">\n",
       "      <th></th>\n",
       "      <th>budget</th>\n",
       "      <th>revenue</th>\n",
       "      <th>runtime</th>\n",
       "      <th>vote_count</th>\n",
       "      <th>vote_average</th>\n",
       "      <th>release_year</th>\n",
       "      <th>profit</th>\n",
       "      <th>profit_perc</th>\n",
       "    </tr>\n",
       "  </thead>\n",
       "  <tbody>\n",
       "    <tr>\n",
       "      <th>count</th>\n",
       "      <td>3819.0</td>\n",
       "      <td>3819.0</td>\n",
       "      <td>3819.0</td>\n",
       "      <td>3819.0</td>\n",
       "      <td>3819.0</td>\n",
       "      <td>3819.0</td>\n",
       "      <td>3819.0</td>\n",
       "      <td>3819.0</td>\n",
       "    </tr>\n",
       "    <tr>\n",
       "      <th>mean</th>\n",
       "      <td>37462018.2</td>\n",
       "      <td>108640982.3</td>\n",
       "      <td>109.3</td>\n",
       "      <td>531.6</td>\n",
       "      <td>5.7</td>\n",
       "      <td>2001.3</td>\n",
       "      <td>71178964.1</td>\n",
       "      <td>1021.7</td>\n",
       "    </tr>\n",
       "    <tr>\n",
       "      <th>std</th>\n",
       "      <td>42262678.4</td>\n",
       "      <td>177054104.9</td>\n",
       "      <td>19.8</td>\n",
       "      <td>882.9</td>\n",
       "      <td>0.8</td>\n",
       "      <td>11.3</td>\n",
       "      <td>151104306.6</td>\n",
       "      <td>26398.1</td>\n",
       "    </tr>\n",
       "    <tr>\n",
       "      <th>min</th>\n",
       "      <td>6000.0</td>\n",
       "      <td>1938.0</td>\n",
       "      <td>26.0</td>\n",
       "      <td>10.0</td>\n",
       "      <td>2.0</td>\n",
       "      <td>1960.0</td>\n",
       "      <td>-413912431.0</td>\n",
       "      <td>-100.0</td>\n",
       "    </tr>\n",
       "    <tr>\n",
       "      <th>25%</th>\n",
       "      <td>10000000.0</td>\n",
       "      <td>14163246.0</td>\n",
       "      <td>96.0</td>\n",
       "      <td>72.0</td>\n",
       "      <td>5.0</td>\n",
       "      <td>1995.5</td>\n",
       "      <td>-1286002.5</td>\n",
       "      <td>-11.8</td>\n",
       "    </tr>\n",
       "    <tr>\n",
       "      <th>50%</th>\n",
       "      <td>24000000.0</td>\n",
       "      <td>45892212.0</td>\n",
       "      <td>106.0</td>\n",
       "      <td>206.0</td>\n",
       "      <td>6.0</td>\n",
       "      <td>2004.0</td>\n",
       "      <td>20451307.0</td>\n",
       "      <td>112.6</td>\n",
       "    </tr>\n",
       "    <tr>\n",
       "      <th>75%</th>\n",
       "      <td>50000000.0</td>\n",
       "      <td>125561662.5</td>\n",
       "      <td>119.0</td>\n",
       "      <td>583.0</td>\n",
       "      <td>6.0</td>\n",
       "      <td>2010.0</td>\n",
       "      <td>82790810.0</td>\n",
       "      <td>320.9</td>\n",
       "    </tr>\n",
       "    <tr>\n",
       "      <th>max</th>\n",
       "      <td>425000000.0</td>\n",
       "      <td>2781505847.0</td>\n",
       "      <td>338.0</td>\n",
       "      <td>9767.0</td>\n",
       "      <td>8.0</td>\n",
       "      <td>2015.0</td>\n",
       "      <td>2544505847.0</td>\n",
       "      <td>1288938.7</td>\n",
       "    </tr>\n",
       "  </tbody>\n",
       "</table>\n",
       "</div>"
      ],
      "text/plain": [
       "           budget      revenue  runtime  vote_count  vote_average  \\\n",
       "count      3819.0       3819.0   3819.0      3819.0        3819.0   \n",
       "mean   37462018.2  108640982.3    109.3       531.6           5.7   \n",
       "std    42262678.4  177054104.9     19.8       882.9           0.8   \n",
       "min        6000.0       1938.0     26.0        10.0           2.0   \n",
       "25%    10000000.0   14163246.0     96.0        72.0           5.0   \n",
       "50%    24000000.0   45892212.0    106.0       206.0           6.0   \n",
       "75%    50000000.0  125561662.5    119.0       583.0           6.0   \n",
       "max   425000000.0 2781505847.0    338.0      9767.0           8.0   \n",
       "\n",
       "       release_year       profit  profit_perc  \n",
       "count        3819.0       3819.0       3819.0  \n",
       "mean         2001.3   71178964.1       1021.7  \n",
       "std            11.3  151104306.6      26398.1  \n",
       "min          1960.0 -413912431.0       -100.0  \n",
       "25%          1995.5   -1286002.5        -11.8  \n",
       "50%          2004.0   20451307.0        112.6  \n",
       "75%          2010.0   82790810.0        320.9  \n",
       "max          2015.0 2544505847.0    1288938.7  "
      ]
     },
     "execution_count": 265,
     "metadata": {},
     "output_type": "execute_result"
    }
   ],
   "source": [
    "num_data.describe()"
   ]
  },
  {
   "cell_type": "code",
   "execution_count": 266,
   "metadata": {},
   "outputs": [
    {
     "data": {
      "text/html": [
       "<div>\n",
       "<style scoped>\n",
       "    .dataframe tbody tr th:only-of-type {\n",
       "        vertical-align: middle;\n",
       "    }\n",
       "\n",
       "    .dataframe tbody tr th {\n",
       "        vertical-align: top;\n",
       "    }\n",
       "\n",
       "    .dataframe thead th {\n",
       "        text-align: right;\n",
       "    }\n",
       "</style>\n",
       "<table border=\"1\" class=\"dataframe\">\n",
       "  <thead>\n",
       "    <tr style=\"text-align: right;\">\n",
       "      <th></th>\n",
       "      <th>0</th>\n",
       "    </tr>\n",
       "  </thead>\n",
       "  <tbody>\n",
       "    <tr>\n",
       "      <th>0</th>\n",
       "      <td>-100.0</td>\n",
       "    </tr>\n",
       "    <tr>\n",
       "      <th>1</th>\n",
       "      <td>-69.0</td>\n",
       "    </tr>\n",
       "    <tr>\n",
       "      <th>2</th>\n",
       "      <td>-31.3</td>\n",
       "    </tr>\n",
       "    <tr>\n",
       "      <th>3</th>\n",
       "      <td>10.0</td>\n",
       "    </tr>\n",
       "    <tr>\n",
       "      <th>4</th>\n",
       "      <td>58.9</td>\n",
       "    </tr>\n",
       "    <tr>\n",
       "      <th>5</th>\n",
       "      <td>112.6</td>\n",
       "    </tr>\n",
       "    <tr>\n",
       "      <th>6</th>\n",
       "      <td>173.0</td>\n",
       "    </tr>\n",
       "    <tr>\n",
       "      <th>7</th>\n",
       "      <td>258.8</td>\n",
       "    </tr>\n",
       "    <tr>\n",
       "      <th>8</th>\n",
       "      <td>401.0</td>\n",
       "    </tr>\n",
       "    <tr>\n",
       "      <th>9</th>\n",
       "      <td>747.6</td>\n",
       "    </tr>\n",
       "  </tbody>\n",
       "</table>\n",
       "</div>"
      ],
      "text/plain": [
       "       0\n",
       "0 -100.0\n",
       "1  -69.0\n",
       "2  -31.3\n",
       "3   10.0\n",
       "4   58.9\n",
       "5  112.6\n",
       "6  173.0\n",
       "7  258.8\n",
       "8  401.0\n",
       "9  747.6"
      ]
     },
     "execution_count": 266,
     "metadata": {},
     "output_type": "execute_result"
    }
   ],
   "source": [
    "# Deciling profit to calculate cutoffs\n",
    "pd.DataFrame(np.percentile(num_data['profit_perc'], np.arange(0,100,10)).tolist())"
   ]
  },
  {
   "cell_type": "code",
   "execution_count": 267,
   "metadata": {},
   "outputs": [
    {
     "data": {
      "text/html": [
       "<div>\n",
       "<style scoped>\n",
       "    .dataframe tbody tr th:only-of-type {\n",
       "        vertical-align: middle;\n",
       "    }\n",
       "\n",
       "    .dataframe tbody tr th {\n",
       "        vertical-align: top;\n",
       "    }\n",
       "\n",
       "    .dataframe thead th {\n",
       "        text-align: right;\n",
       "    }\n",
       "</style>\n",
       "<table border=\"1\" class=\"dataframe\">\n",
       "  <thead>\n",
       "    <tr style=\"text-align: right;\">\n",
       "      <th></th>\n",
       "      <th>budget</th>\n",
       "      <th>revenue</th>\n",
       "      <th>original_title</th>\n",
       "      <th>cast</th>\n",
       "      <th>director</th>\n",
       "      <th>runtime</th>\n",
       "      <th>genres</th>\n",
       "      <th>production_companies</th>\n",
       "      <th>release_date</th>\n",
       "      <th>vote_count</th>\n",
       "      <th>vote_average</th>\n",
       "      <th>release_year</th>\n",
       "      <th>profit</th>\n",
       "      <th>profit_perc</th>\n",
       "    </tr>\n",
       "  </thead>\n",
       "  <tbody>\n",
       "    <tr>\n",
       "      <th>1</th>\n",
       "      <td>150000000</td>\n",
       "      <td>1513528810</td>\n",
       "      <td>Jurassic World</td>\n",
       "      <td>Chris Pratt|Bryce Dallas Howard|Irrfan Khan|Vi...</td>\n",
       "      <td>Colin Trevorrow</td>\n",
       "      <td>124</td>\n",
       "      <td>Action|Adventure|Science Fiction|Thriller</td>\n",
       "      <td>Universal Studios|Amblin Entertainment|Legenda...</td>\n",
       "      <td>2015-06-09</td>\n",
       "      <td>5562</td>\n",
       "      <td>6</td>\n",
       "      <td>2015</td>\n",
       "      <td>1363528810</td>\n",
       "      <td>909.0</td>\n",
       "    </tr>\n",
       "    <tr>\n",
       "      <th>2</th>\n",
       "      <td>150000000</td>\n",
       "      <td>378436354</td>\n",
       "      <td>Mad Max: Fury Road</td>\n",
       "      <td>Tom Hardy|Charlize Theron|Hugh Keays-Byrne|Nic...</td>\n",
       "      <td>George Miller</td>\n",
       "      <td>120</td>\n",
       "      <td>Action|Adventure|Science Fiction|Thriller</td>\n",
       "      <td>Village Roadshow Pictures|Kennedy Miller Produ...</td>\n",
       "      <td>2015-05-13</td>\n",
       "      <td>6185</td>\n",
       "      <td>7</td>\n",
       "      <td>2015</td>\n",
       "      <td>228436354</td>\n",
       "      <td>152.3</td>\n",
       "    </tr>\n",
       "  </tbody>\n",
       "</table>\n",
       "</div>"
      ],
      "text/plain": [
       "      budget     revenue      original_title  \\\n",
       "1  150000000  1513528810      Jurassic World   \n",
       "2  150000000   378436354  Mad Max: Fury Road   \n",
       "\n",
       "                                                cast         director  \\\n",
       "1  Chris Pratt|Bryce Dallas Howard|Irrfan Khan|Vi...  Colin Trevorrow   \n",
       "2  Tom Hardy|Charlize Theron|Hugh Keays-Byrne|Nic...    George Miller   \n",
       "\n",
       "   runtime                                     genres  \\\n",
       "1      124  Action|Adventure|Science Fiction|Thriller   \n",
       "2      120  Action|Adventure|Science Fiction|Thriller   \n",
       "\n",
       "                                production_companies release_date  vote_count  \\\n",
       "1  Universal Studios|Amblin Entertainment|Legenda...   2015-06-09        5562   \n",
       "2  Village Roadshow Pictures|Kennedy Miller Produ...   2015-05-13        6185   \n",
       "\n",
       "   vote_average  release_year      profit  profit_perc  \n",
       "1             6          2015  1363528810        909.0  \n",
       "2             7          2015   228436354        152.3  "
      ]
     },
     "execution_count": 267,
     "metadata": {},
     "output_type": "execute_result"
    }
   ],
   "source": [
    "#selecting the movies having profit of 50% or more based on median value of profit_perc\n",
    "profit_data =  num_data[num_data['profit_perc'] >= 50]\n",
    "\n",
    "#reindexing new data\n",
    "profit_data.index = range(len(profit_data))\n",
    "\n",
    "#we will start from 1 instead of 0\n",
    "profit_data.index = profit_data.index + 1\n",
    "\n",
    "#printing the changed dataset\n",
    "profit_data.head(2)"
   ]
  },
  {
   "cell_type": "markdown",
   "metadata": {},
   "source": [
    "#### Question 7 - What are the metrics of a successful movie?"
   ]
  },
  {
   "cell_type": "code",
   "execution_count": 326,
   "metadata": {},
   "outputs": [
    {
     "data": {
      "text/html": [
       "<div>\n",
       "<style scoped>\n",
       "    .dataframe tbody tr th:only-of-type {\n",
       "        vertical-align: middle;\n",
       "    }\n",
       "\n",
       "    .dataframe tbody tr th {\n",
       "        vertical-align: top;\n",
       "    }\n",
       "\n",
       "    .dataframe thead th {\n",
       "        text-align: right;\n",
       "    }\n",
       "</style>\n",
       "<table border=\"1\" class=\"dataframe\">\n",
       "  <thead>\n",
       "    <tr style=\"text-align: right;\">\n",
       "      <th></th>\n",
       "      <th>budget</th>\n",
       "      <th>revenue</th>\n",
       "      <th>runtime</th>\n",
       "      <th>vote_count</th>\n",
       "      <th>vote_average</th>\n",
       "      <th>release_year</th>\n",
       "      <th>profit</th>\n",
       "      <th>profit_perc</th>\n",
       "    </tr>\n",
       "  </thead>\n",
       "  <tbody>\n",
       "    <tr>\n",
       "      <th>count</th>\n",
       "      <td>2357.0</td>\n",
       "      <td>2357.0</td>\n",
       "      <td>2357.0</td>\n",
       "      <td>2357.0</td>\n",
       "      <td>2357.0</td>\n",
       "      <td>2357.0</td>\n",
       "      <td>2357.0</td>\n",
       "      <td>2357.0</td>\n",
       "    </tr>\n",
       "    <tr>\n",
       "      <th>mean</th>\n",
       "      <td>40368051.0</td>\n",
       "      <td>160383184.4</td>\n",
       "      <td>110.4</td>\n",
       "      <td>742.2</td>\n",
       "      <td>5.9</td>\n",
       "      <td>2000.3</td>\n",
       "      <td>120015133.5</td>\n",
       "      <td>1675.7</td>\n",
       "    </tr>\n",
       "    <tr>\n",
       "      <th>std</th>\n",
       "      <td>46052114.6</td>\n",
       "      <td>207336970.1</td>\n",
       "      <td>20.3</td>\n",
       "      <td>1041.1</td>\n",
       "      <td>0.8</td>\n",
       "      <td>12.3</td>\n",
       "      <td>174623259.6</td>\n",
       "      <td>33588.2</td>\n",
       "    </tr>\n",
       "    <tr>\n",
       "      <th>min</th>\n",
       "      <td>7000.0</td>\n",
       "      <td>101236.0</td>\n",
       "      <td>26.0</td>\n",
       "      <td>10.0</td>\n",
       "      <td>3.0</td>\n",
       "      <td>1960.0</td>\n",
       "      <td>84236.0</td>\n",
       "      <td>50.0</td>\n",
       "    </tr>\n",
       "    <tr>\n",
       "      <th>25%</th>\n",
       "      <td>10000000.0</td>\n",
       "      <td>39321715.0</td>\n",
       "      <td>96.0</td>\n",
       "      <td>138.0</td>\n",
       "      <td>5.0</td>\n",
       "      <td>1993.0</td>\n",
       "      <td>24492759.0</td>\n",
       "      <td>132.6</td>\n",
       "    </tr>\n",
       "    <tr>\n",
       "      <th>50%</th>\n",
       "      <td>25000000.0</td>\n",
       "      <td>93375151.0</td>\n",
       "      <td>106.0</td>\n",
       "      <td>359.0</td>\n",
       "      <td>6.0</td>\n",
       "      <td>2004.0</td>\n",
       "      <td>60810728.0</td>\n",
       "      <td>248.6</td>\n",
       "    </tr>\n",
       "    <tr>\n",
       "      <th>75%</th>\n",
       "      <td>55000000.0</td>\n",
       "      <td>194564672.0</td>\n",
       "      <td>121.0</td>\n",
       "      <td>868.0</td>\n",
       "      <td>6.0</td>\n",
       "      <td>2010.0</td>\n",
       "      <td>140663859.0</td>\n",
       "      <td>526.3</td>\n",
       "    </tr>\n",
       "    <tr>\n",
       "      <th>max</th>\n",
       "      <td>380000000.0</td>\n",
       "      <td>2781505847.0</td>\n",
       "      <td>248.0</td>\n",
       "      <td>9767.0</td>\n",
       "      <td>8.0</td>\n",
       "      <td>2015.0</td>\n",
       "      <td>2544505847.0</td>\n",
       "      <td>1288938.7</td>\n",
       "    </tr>\n",
       "  </tbody>\n",
       "</table>\n",
       "</div>"
      ],
      "text/plain": [
       "           budget      revenue  runtime  vote_count  vote_average  \\\n",
       "count      2357.0       2357.0   2357.0      2357.0        2357.0   \n",
       "mean   40368051.0  160383184.4    110.4       742.2           5.9   \n",
       "std    46052114.6  207336970.1     20.3      1041.1           0.8   \n",
       "min        7000.0     101236.0     26.0        10.0           3.0   \n",
       "25%    10000000.0   39321715.0     96.0       138.0           5.0   \n",
       "50%    25000000.0   93375151.0    106.0       359.0           6.0   \n",
       "75%    55000000.0  194564672.0    121.0       868.0           6.0   \n",
       "max   380000000.0 2781505847.0    248.0      9767.0           8.0   \n",
       "\n",
       "       release_year       profit  profit_perc  \n",
       "count        2357.0       2357.0       2357.0  \n",
       "mean         2000.3  120015133.5       1675.7  \n",
       "std            12.3  174623259.6      33588.2  \n",
       "min          1960.0      84236.0         50.0  \n",
       "25%          1993.0   24492759.0        132.6  \n",
       "50%          2004.0   60810728.0        248.6  \n",
       "75%          2010.0  140663859.0        526.3  \n",
       "max          2015.0 2544505847.0    1288938.7  "
      ]
     },
     "execution_count": 326,
     "metadata": {},
     "output_type": "execute_result"
    }
   ],
   "source": [
    "profit_data.describe()"
   ]
  },
  {
   "cell_type": "markdown",
   "metadata": {},
   "source": [
    "Average Budget of profitable movies is 40mn while\n",
    "Average Revenue earned by profitable movies is 160mn thereby making a profit of 120mn which is around 300% return on investment"
   ]
  },
  {
   "cell_type": "markdown",
   "metadata": {},
   "source": [
    "#### Defining a function which splits the data by '|' and displays a chart with number of movies"
   ]
  },
  {
   "cell_type": "code",
   "execution_count": 336,
   "metadata": {},
   "outputs": [],
   "source": [
    "#function which will take any column as argument from and keep its track \n",
    "def data(data_val, column, title):\n",
    "    #will take a column, and separate the string by '|'\n",
    "    data = data_val[column].str.cat(sep = '|')\n",
    "    \n",
    "    #giving pandas series and storing the values separately\n",
    "    data = pd.Series(data.split('|'))\n",
    "    \n",
    "    #arranging in descending order\n",
    "    count = data.value_counts(ascending = False).head(10)\n",
    "    \n",
    "    count.sort_values(ascending = True, inplace = True)\n",
    "\n",
    "    #ploting\n",
    "    lt = count.plot.barh(color = 'red', fontsize = 13)\n",
    "\n",
    "    #title\n",
    "    lt.set(title = title)\n",
    "\n",
    "    # on x axis\n",
    "    lt.set_xlabel('Nos.of Movies in the dataset', color = 'black', fontsize = '13')\n",
    "\n",
    "    #figure size(width, height)\n",
    "    lt.figure.set_size_inches(12, 9)\n",
    "\n",
    "    #ploting the graph\n",
    "    plt.show()\n",
    "    return count"
   ]
  },
  {
   "cell_type": "markdown",
   "metadata": {},
   "source": [
    "#### Question 8 - Most profitable Genre of movies?"
   ]
  },
  {
   "cell_type": "code",
   "execution_count": 312,
   "metadata": {},
   "outputs": [
    {
     "data": {
      "image/png": "[encoded data removed]",
      "text/plain": [
       "<Figure size 864x648 with 1 Axes>"
      ]
     },
     "metadata": {},
     "output_type": "display_data"
    }
   ],
   "source": [
    "count = data(profit_data,'genres', 'Frequent Genres in profitable movies')"
   ]
  },
  {
   "cell_type": "markdown",
   "metadata": {},
   "source": [
    "#### Question 9 - Most profitable star Cast ?"
   ]
  },
  {
   "cell_type": "code",
   "execution_count": 337,
   "metadata": {},
   "outputs": [
    {
     "data": {
      "image/png": "[encoded data removed]",
      "text/plain": [
       "<Figure size 864x648 with 1 Axes>"
      ]
     },
     "metadata": {},
     "output_type": "display_data"
    }
   ],
   "source": [
    "count = data(profit_data, 'cast', 'Frequent Actors in profitable movies')"
   ]
  },
  {
   "cell_type": "markdown",
   "metadata": {},
   "source": [
    "#### Question 10 - Most profitable production companies ?"
   ]
  },
  {
   "cell_type": "code",
   "execution_count": 338,
   "metadata": {},
   "outputs": [
    {
     "data": {
      "image/png": "[encoded data removed]",
      "text/plain": [
       "<Figure size 864x648 with 1 Axes>"
      ]
     },
     "metadata": {},
     "output_type": "display_data"
    }
   ],
   "source": [
    "count = data(profit_data, 'production_companies', 'Production companies producing profitable movies')"
   ]
  },
  {
   "cell_type": "markdown",
   "metadata": {},
   "source": [
    "#### Question 11 - Are more movies produced now than earlier years?"
   ]
  },
  {
   "cell_type": "code",
   "execution_count": 275,
   "metadata": {},
   "outputs": [
    {
     "data": {
      "image/png": "[encoded data removed]",
      "text/plain": [
       "<Figure size 576x576 with 1 Axes>"
      ]
     },
     "metadata": {},
     "output_type": "display_data"
    }
   ],
   "source": [
    "# counting number of releases per year\n",
    "releases=tmdb_data.groupby(by=['release_year'])['original_title'].count()\n",
    "# plotting the count\n",
    "mv=releases.plot(kind='line',figsize=(8,8))"
   ]
  },
  {
   "cell_type": "markdown",
   "metadata": {},
   "source": [
    "Yes, number of movies made is increasing every successive year"
   ]
  },
  {
   "cell_type": "markdown",
   "metadata": {},
   "source": [
    "#### Question 12 - Which year saw maximum number of movies made?"
   ]
  },
  {
   "cell_type": "code",
   "execution_count": 288,
   "metadata": {},
   "outputs": [
    {
     "data": {
      "text/html": [
       "<div>\n",
       "<style scoped>\n",
       "    .dataframe tbody tr th:only-of-type {\n",
       "        vertical-align: middle;\n",
       "    }\n",
       "\n",
       "    .dataframe tbody tr th {\n",
       "        vertical-align: top;\n",
       "    }\n",
       "\n",
       "    .dataframe thead th {\n",
       "        text-align: right;\n",
       "    }\n",
       "</style>\n",
       "<table border=\"1\" class=\"dataframe\">\n",
       "  <thead>\n",
       "    <tr style=\"text-align: right;\">\n",
       "      <th></th>\n",
       "      <th>release_year</th>\n",
       "      <th>original_title</th>\n",
       "    </tr>\n",
       "  </thead>\n",
       "  <tbody>\n",
       "    <tr>\n",
       "      <th>0</th>\n",
       "      <td>1960</td>\n",
       "      <td>32</td>\n",
       "    </tr>\n",
       "    <tr>\n",
       "      <th>1</th>\n",
       "      <td>1961</td>\n",
       "      <td>31</td>\n",
       "    </tr>\n",
       "  </tbody>\n",
       "</table>\n",
       "</div>"
      ],
      "text/plain": [
       "   release_year  original_title\n",
       "0          1960              32\n",
       "1          1961              31"
      ]
     },
     "execution_count": 288,
     "metadata": {},
     "output_type": "execute_result"
    }
   ],
   "source": [
    "release_df=pd.DataFrame(releases).reset_index()\n",
    "release_df.head(2)"
   ]
  },
  {
   "cell_type": "code",
   "execution_count": 293,
   "metadata": {},
   "outputs": [
    {
     "name": "stdout",
     "output_type": "stream",
     "text": [
      "2014 saw maximum number of movies releasing - 700 movies\n"
     ]
    }
   ],
   "source": [
    "max_yr_ind=release_df['original_title'].idxmax()\n",
    "max_yr=release_df.loc[max_yr_ind].at['release_year']\n",
    "max_nbr=release_df.loc[max_yr_ind].at['original_title']\n",
    "\n",
    "print(max_yr, \"saw maximum number of movies releasing -\",max_nbr, \"movies\")"
   ]
  },
  {
   "cell_type": "markdown",
   "metadata": {},
   "source": [
    "#### Question 13 - Which year saw maximum number of profitable movies made?"
   ]
  },
  {
   "cell_type": "code",
   "execution_count": 299,
   "metadata": {},
   "outputs": [
    {
     "data": {
      "text/html": [
       "<div>\n",
       "<style scoped>\n",
       "    .dataframe tbody tr th:only-of-type {\n",
       "        vertical-align: middle;\n",
       "    }\n",
       "\n",
       "    .dataframe tbody tr th {\n",
       "        vertical-align: top;\n",
       "    }\n",
       "\n",
       "    .dataframe thead th {\n",
       "        text-align: right;\n",
       "    }\n",
       "</style>\n",
       "<table border=\"1\" class=\"dataframe\">\n",
       "  <thead>\n",
       "    <tr style=\"text-align: right;\">\n",
       "      <th></th>\n",
       "      <th>release_year</th>\n",
       "      <th>original_title</th>\n",
       "    </tr>\n",
       "  </thead>\n",
       "  <tbody>\n",
       "    <tr>\n",
       "      <th>0</th>\n",
       "      <td>1960</td>\n",
       "      <td>5</td>\n",
       "    </tr>\n",
       "    <tr>\n",
       "      <th>1</th>\n",
       "      <td>1961</td>\n",
       "      <td>8</td>\n",
       "    </tr>\n",
       "  </tbody>\n",
       "</table>\n",
       "</div>"
      ],
      "text/plain": [
       "   release_year  original_title\n",
       "0          1960               5\n",
       "1          1961               8"
      ]
     },
     "execution_count": 299,
     "metadata": {},
     "output_type": "execute_result"
    }
   ],
   "source": [
    "count=pd.DataFrame(profit_data.groupby(by=['release_year'])['original_title'].count()).reset_index()\n",
    "count.head(2)"
   ]
  },
  {
   "cell_type": "code",
   "execution_count": 301,
   "metadata": {},
   "outputs": [
    {
     "name": "stdout",
     "output_type": "stream",
     "text": [
      "2011 saw maximum number of profitable movies - 118 movies\n"
     ]
    }
   ],
   "source": [
    "max_yr_ind=count['original_title'].idxmax()\n",
    "max_yr=count.loc[max_yr_ind].at['release_year']\n",
    "max_nbr=count.loc[max_yr_ind].at['original_title']\n",
    "\n",
    "print(max_yr, \"saw maximum number of profitable movies -\",max_nbr, \"movies\")"
   ]
  },
  {
   "cell_type": "markdown",
   "metadata": {},
   "source": [
    "#### Question 14 - Are high budget movies more profitable than low budget movies?"
   ]
  },
  {
   "cell_type": "code",
   "execution_count": 331,
   "metadata": {},
   "outputs": [
    {
     "data": {
      "text/html": [
       "<div>\n",
       "<style scoped>\n",
       "    .dataframe tbody tr th:only-of-type {\n",
       "        vertical-align: middle;\n",
       "    }\n",
       "\n",
       "    .dataframe tbody tr th {\n",
       "        vertical-align: top;\n",
       "    }\n",
       "\n",
       "    .dataframe thead th {\n",
       "        text-align: right;\n",
       "    }\n",
       "</style>\n",
       "<table border=\"1\" class=\"dataframe\">\n",
       "  <thead>\n",
       "    <tr style=\"text-align: right;\">\n",
       "      <th></th>\n",
       "      <th>budget</th>\n",
       "      <th>revenue</th>\n",
       "      <th>runtime</th>\n",
       "      <th>vote_count</th>\n",
       "      <th>vote_average</th>\n",
       "      <th>release_year</th>\n",
       "      <th>profit</th>\n",
       "      <th>profit_perc</th>\n",
       "    </tr>\n",
       "  </thead>\n",
       "  <tbody>\n",
       "    <tr>\n",
       "      <th>count</th>\n",
       "      <td>2357.0</td>\n",
       "      <td>2357.0</td>\n",
       "      <td>2357.0</td>\n",
       "      <td>2357.0</td>\n",
       "      <td>2357.0</td>\n",
       "      <td>2357.0</td>\n",
       "      <td>2357.0</td>\n",
       "      <td>2357.0</td>\n",
       "    </tr>\n",
       "    <tr>\n",
       "      <th>mean</th>\n",
       "      <td>40368051.0</td>\n",
       "      <td>160383184.4</td>\n",
       "      <td>110.4</td>\n",
       "      <td>742.2</td>\n",
       "      <td>5.9</td>\n",
       "      <td>2000.3</td>\n",
       "      <td>120015133.5</td>\n",
       "      <td>1675.7</td>\n",
       "    </tr>\n",
       "    <tr>\n",
       "      <th>std</th>\n",
       "      <td>46052114.6</td>\n",
       "      <td>207336970.1</td>\n",
       "      <td>20.3</td>\n",
       "      <td>1041.1</td>\n",
       "      <td>0.8</td>\n",
       "      <td>12.3</td>\n",
       "      <td>174623259.6</td>\n",
       "      <td>33588.2</td>\n",
       "    </tr>\n",
       "    <tr>\n",
       "      <th>min</th>\n",
       "      <td>7000.0</td>\n",
       "      <td>101236.0</td>\n",
       "      <td>26.0</td>\n",
       "      <td>10.0</td>\n",
       "      <td>3.0</td>\n",
       "      <td>1960.0</td>\n",
       "      <td>84236.0</td>\n",
       "      <td>50.0</td>\n",
       "    </tr>\n",
       "    <tr>\n",
       "      <th>25%</th>\n",
       "      <td>10000000.0</td>\n",
       "      <td>39321715.0</td>\n",
       "      <td>96.0</td>\n",
       "      <td>138.0</td>\n",
       "      <td>5.0</td>\n",
       "      <td>1993.0</td>\n",
       "      <td>24492759.0</td>\n",
       "      <td>132.6</td>\n",
       "    </tr>\n",
       "    <tr>\n",
       "      <th>50%</th>\n",
       "      <td>25000000.0</td>\n",
       "      <td>93375151.0</td>\n",
       "      <td>106.0</td>\n",
       "      <td>359.0</td>\n",
       "      <td>6.0</td>\n",
       "      <td>2004.0</td>\n",
       "      <td>60810728.0</td>\n",
       "      <td>248.6</td>\n",
       "    </tr>\n",
       "    <tr>\n",
       "      <th>75%</th>\n",
       "      <td>55000000.0</td>\n",
       "      <td>194564672.0</td>\n",
       "      <td>121.0</td>\n",
       "      <td>868.0</td>\n",
       "      <td>6.0</td>\n",
       "      <td>2010.0</td>\n",
       "      <td>140663859.0</td>\n",
       "      <td>526.3</td>\n",
       "    </tr>\n",
       "    <tr>\n",
       "      <th>max</th>\n",
       "      <td>380000000.0</td>\n",
       "      <td>2781505847.0</td>\n",
       "      <td>248.0</td>\n",
       "      <td>9767.0</td>\n",
       "      <td>8.0</td>\n",
       "      <td>2015.0</td>\n",
       "      <td>2544505847.0</td>\n",
       "      <td>1288938.7</td>\n",
       "    </tr>\n",
       "  </tbody>\n",
       "</table>\n",
       "</div>"
      ],
      "text/plain": [
       "           budget      revenue  runtime  vote_count  vote_average  \\\n",
       "count      2357.0       2357.0   2357.0      2357.0        2357.0   \n",
       "mean   40368051.0  160383184.4    110.4       742.2           5.9   \n",
       "std    46052114.6  207336970.1     20.3      1041.1           0.8   \n",
       "min        7000.0     101236.0     26.0        10.0           3.0   \n",
       "25%    10000000.0   39321715.0     96.0       138.0           5.0   \n",
       "50%    25000000.0   93375151.0    106.0       359.0           6.0   \n",
       "75%    55000000.0  194564672.0    121.0       868.0           6.0   \n",
       "max   380000000.0 2781505847.0    248.0      9767.0           8.0   \n",
       "\n",
       "       release_year       profit  profit_perc  \n",
       "count        2357.0       2357.0       2357.0  \n",
       "mean         2000.3  120015133.5       1675.7  \n",
       "std            12.3  174623259.6      33588.2  \n",
       "min          1960.0      84236.0         50.0  \n",
       "25%          1993.0   24492759.0        132.6  \n",
       "50%          2004.0   60810728.0        248.6  \n",
       "75%          2010.0  140663859.0        526.3  \n",
       "max          2015.0 2544505847.0    1288938.7  "
      ]
     },
     "execution_count": 331,
     "metadata": {},
     "output_type": "execute_result"
    }
   ],
   "source": [
    "profit_data.describe()"
   ]
  },
  {
   "cell_type": "code",
   "execution_count": 332,
   "metadata": {},
   "outputs": [
    {
     "data": {
      "text/html": [
       "<div>\n",
       "<style scoped>\n",
       "    .dataframe tbody tr th:only-of-type {\n",
       "        vertical-align: middle;\n",
       "    }\n",
       "\n",
       "    .dataframe tbody tr th {\n",
       "        vertical-align: top;\n",
       "    }\n",
       "\n",
       "    .dataframe thead th {\n",
       "        text-align: right;\n",
       "    }\n",
       "</style>\n",
       "<table border=\"1\" class=\"dataframe\">\n",
       "  <thead>\n",
       "    <tr style=\"text-align: right;\">\n",
       "      <th></th>\n",
       "      <th>0</th>\n",
       "    </tr>\n",
       "  </thead>\n",
       "  <tbody>\n",
       "    <tr>\n",
       "      <th>0</th>\n",
       "      <td>7000.0</td>\n",
       "    </tr>\n",
       "    <tr>\n",
       "      <th>1</th>\n",
       "      <td>3000000.0</td>\n",
       "    </tr>\n",
       "    <tr>\n",
       "      <th>2</th>\n",
       "      <td>6500000.0</td>\n",
       "    </tr>\n",
       "    <tr>\n",
       "      <th>3</th>\n",
       "      <td>12000000.0</td>\n",
       "    </tr>\n",
       "    <tr>\n",
       "      <th>4</th>\n",
       "      <td>17000000.0</td>\n",
       "    </tr>\n",
       "    <tr>\n",
       "      <th>5</th>\n",
       "      <td>25000000.0</td>\n",
       "    </tr>\n",
       "    <tr>\n",
       "      <th>6</th>\n",
       "      <td>32000000.0</td>\n",
       "    </tr>\n",
       "    <tr>\n",
       "      <th>7</th>\n",
       "      <td>45000000.0</td>\n",
       "    </tr>\n",
       "    <tr>\n",
       "      <th>8</th>\n",
       "      <td>65000000.0</td>\n",
       "    </tr>\n",
       "    <tr>\n",
       "      <th>9</th>\n",
       "      <td>100000000.0</td>\n",
       "    </tr>\n",
       "  </tbody>\n",
       "</table>\n",
       "</div>"
      ],
      "text/plain": [
       "            0\n",
       "0      7000.0\n",
       "1   3000000.0\n",
       "2   6500000.0\n",
       "3  12000000.0\n",
       "4  17000000.0\n",
       "5  25000000.0\n",
       "6  32000000.0\n",
       "7  45000000.0\n",
       "8  65000000.0\n",
       "9 100000000.0"
      ]
     },
     "execution_count": 332,
     "metadata": {},
     "output_type": "execute_result"
    }
   ],
   "source": [
    "# Creating deciles of data based on budget\n",
    "pd.DataFrame(np.percentile(profit_data['budget'], np.arange(0,100,10)).tolist())"
   ]
  },
  {
   "cell_type": "code",
   "execution_count": 333,
   "metadata": {
    "collapsed": true
   },
   "outputs": [
    {
     "name": "stderr",
     "output_type": "stream",
     "text": [
      "/opt/anaconda3/lib/python3.6/site-packages/ipykernel_launcher.py:6: SettingWithCopyWarning: \n",
      "A value is trying to be set on a copy of a slice from a DataFrame.\n",
      "Try using .loc[row_indexer,col_indexer] = value instead\n",
      "\n",
      "See the caveats in the documentation: http://pandas.pydata.org/pandas-docs/stable/indexing.html#indexing-view-versus-copy\n",
      "  \n"
     ]
    }
   ],
   "source": [
    "# creating bins based on 30th and 70th decile \n",
    "# so that proportion is 30%, 40% and 30% when dividing movies between High, Medium and Low budget budget\n",
    "\n",
    "bins=[0, 12000000, 45000000, 380000000]\n",
    "labels=['Low', 'Medium', 'High']\n",
    "profit_data['budget_group']= pd.cut(profit_data['budget'], bins=bins, labels=labels)\n"
   ]
  },
  {
   "cell_type": "code",
   "execution_count": 334,
   "metadata": {},
   "outputs": [
    {
     "data": {
      "text/html": [
       "<div>\n",
       "<style scoped>\n",
       "    .dataframe tbody tr th:only-of-type {\n",
       "        vertical-align: middle;\n",
       "    }\n",
       "\n",
       "    .dataframe tbody tr th {\n",
       "        vertical-align: top;\n",
       "    }\n",
       "\n",
       "    .dataframe thead th {\n",
       "        text-align: right;\n",
       "    }\n",
       "</style>\n",
       "<table border=\"1\" class=\"dataframe\">\n",
       "  <thead>\n",
       "    <tr style=\"text-align: right;\">\n",
       "      <th></th>\n",
       "      <th>profit</th>\n",
       "      <th>profit_perc</th>\n",
       "    </tr>\n",
       "    <tr>\n",
       "      <th>budget_group</th>\n",
       "      <th></th>\n",
       "      <th></th>\n",
       "    </tr>\n",
       "  </thead>\n",
       "  <tbody>\n",
       "    <tr>\n",
       "      <th>Low</th>\n",
       "      <td>40318856.0</td>\n",
       "      <td>4635.1</td>\n",
       "    </tr>\n",
       "    <tr>\n",
       "      <th>Medium</th>\n",
       "      <td>89416846.0</td>\n",
       "      <td>366.5</td>\n",
       "    </tr>\n",
       "    <tr>\n",
       "      <th>High</th>\n",
       "      <td>245830206.4</td>\n",
       "      <td>249.0</td>\n",
       "    </tr>\n",
       "  </tbody>\n",
       "</table>\n",
       "</div>"
      ],
      "text/plain": [
       "                  profit  profit_perc\n",
       "budget_group                         \n",
       "Low           40318856.0       4635.1\n",
       "Medium        89416846.0        366.5\n",
       "High         245830206.4        249.0"
      ]
     },
     "execution_count": 334,
     "metadata": {},
     "output_type": "execute_result"
    }
   ],
   "source": [
    "# Comparing profit between budget groups\n",
    "profit_data.groupby(['budget_group'])['profit','profit_perc'].mean()"
   ]
  },
  {
   "cell_type": "markdown",
   "metadata": {},
   "source": [
    "Though Low budget movies make lesser money in absolute terms than high budget movies but their profit rate is Extremely high"
   ]
  },
  {
   "cell_type": "markdown",
   "metadata": {},
   "source": [
    "#### Question 15 - Top star cast and Genre in low vs high budget movies?"
   ]
  },
  {
   "cell_type": "code",
   "execution_count": 335,
   "metadata": {},
   "outputs": [],
   "source": [
    "low_budget=profit_data[profit_data.budget_group=='Low']\n",
    "high_budget=profit_data[profit_data.budget_group=='High']"
   ]
  },
  {
   "cell_type": "code",
   "execution_count": 339,
   "metadata": {},
   "outputs": [
    {
     "data": {
      "image/png": "[encoded data removed]",
      "text/plain": [
       "<Figure size 864x648 with 1 Axes>"
      ]
     },
     "metadata": {},
     "output_type": "display_data"
    }
   ],
   "source": [
    "count = data(low_budget, 'cast', 'Frequent Actors in Low budget profitable movies')"
   ]
  },
  {
   "cell_type": "code",
   "execution_count": 340,
   "metadata": {},
   "outputs": [
    {
     "data": {
      "image/png": "[encoded data removed]",
      "text/plain": [
       "<Figure size 864x648 with 1 Axes>"
      ]
     },
     "metadata": {},
     "output_type": "display_data"
    }
   ],
   "source": [
    "count = data(high_budget, 'cast', 'Frequent Actors in High budget profitable movies')"
   ]
  },
  {
   "cell_type": "code",
   "execution_count": 341,
   "metadata": {},
   "outputs": [
    {
     "data": {
      "image/png": "[encoded data removed]",
      "text/plain": [
       "<Figure size 864x648 with 1 Axes>"
      ]
     },
     "metadata": {},
     "output_type": "display_data"
    }
   ],
   "source": [
    "count = data(low_budget, 'genres', 'Frequent Genres in Low budget profitable movies')"
   ]
  },
  {
   "cell_type": "code",
   "execution_count": 342,
   "metadata": {},
   "outputs": [
    {
     "data": {
      "image/png": "[encoded data removed]",
      "text/plain": [
       "<Figure size 864x648 with 1 Axes>"
      ]
     },
     "metadata": {},
     "output_type": "display_data"
    }
   ],
   "source": [
    "count = data(high_budget, 'genres', 'Frequent Genres in Low budget profitable movies')"
   ]
  },
  {
   "cell_type": "markdown",
   "metadata": {},
   "source": [
    "<a id='analysis'></a>\n",
    "## Conclusion:"
   ]
  },
  {
   "cell_type": "markdown",
   "metadata": {},
   "source": [
    "This was a very interesting data analysis and We learnt some very interesting facts about movies. \n",
    "##### Generally an average movie has a budget of 24mn dollars and generates revenue of ~49mn dollars thereby generating a profit of 25mn dollars. However the mantra to make a successful movie (based on high profits) is as follows: \n",
    ">Average Budget must be around 40mn dollars\n",
    ">Average duration of the movie must be 109 minutes\n",
    ">Cast should have either : Robert De Niro, Tom Cruise, Brad Pitt, Tom Hanks or Bruce Willis\n",
    ">Genre must be : Drama, Comedy, Thriller, Action or Adventure\n",
    "\n",
    "With the above credentials a movie can earn around 160mn which is almost 400% ROI and about more than 3 times of what an average movie makes. However Low budget profitable movies make a great ROI of ~4000% with a small investment.\n",
    "\n",
    "#### The final recommendation to movie makers would be to either \n",
    "1. Make a high budget Action, Adventure or Comedy movie with Actors like Tom Cruise, Brad pitt or Matt Damon\n",
    "#### OR\n",
    "2. Make a low budget Drama, Comedy or Thriller with Actors like Donald Pleasence, Ethan Hawke or Clint Eastwood\n",
    "\n",
    "\n",
    "\n",
    "##### *** Please note there were some assumptions made and movies classified based on averages of the given dataset to be more conclusive."
   ]
  },
  {
   "cell_type": "code",
   "execution_count": null,
   "metadata": {},
   "outputs": [],
   "source": []
  }
 ],
 "metadata": {
  "kernelspec": {
   "display_name": "Python 3",
   "language": "python",
   "name": "python3"
  },
  "language_info": {
   "codemirror_mode": {
    "name": "ipython",
    "version": 3
   },
   "file_extension": ".py",
   "mimetype": "text/x-python",
   "name": "python",
   "nbconvert_exporter": "python",
   "pygments_lexer": "ipython3",
   "version": "3.6.3"
  }
 },
 "nbformat": 4,
 "nbformat_minor": 2
}
